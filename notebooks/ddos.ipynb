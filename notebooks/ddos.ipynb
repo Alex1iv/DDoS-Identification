{
 "cells": [
  {
   "cell_type": "code",
   "execution_count": 1,
   "metadata": {},
   "outputs": [
    {
     "name": "stdout",
     "output_type": "stream",
     "text": [
      "../models/ \n",
      " ../data/\n"
     ]
    }
   ],
   "source": [
    "import numpy as np\n",
    "import pandas as pd\n",
    "\n",
    "import matplotlib.pyplot as plt\n",
    "import seaborn as sns\n",
    "\n",
    "#import tensorflow as tf\n",
    "#from sklearn.model_selection import train_test_split\n",
    "\n",
    "# Hides output while after model learned\n",
    "from IPython.display import clear_output\n",
    "from IPython import display\n",
    "\n",
    "from zipfile import ZipFile\n",
    "\n",
    "import sys\n",
    "#set path\n",
    "sys.path.insert(1, '../')\n",
    "\n",
    "from utils.reader_config import config_reader\n",
    "\n",
    "# Import parameters\n",
    "config = config_reader('../config/config.json')\n",
    "\n",
    "# Set the seed value for experiment reproducibility.\n",
    "random_seed = config.random_seed\n",
    "#tf.random.set_seed(random_seed)\n",
    "np.random.seed(random_seed)\n",
    "\n",
    "path_figures = \"../figures/\"\n",
    "path_data = \"../data/\" \n",
    "path_models = '../models/'\n",
    "print(path_models,'\\n', path_data)"
   ]
  },
  {
   "cell_type": "markdown",
   "metadata": {},
   "source": [
    "# List of extracted features and descriptions:"
   ]
  },
  {
   "cell_type": "markdown",
   "metadata": {},
   "source": [
    "\n",
    "| Feature Name | Description|\n",
    "| :--- | :-- |\n",
    "| Flow ID |   |\n",
    "| Source IP |   |\n",
    "| Source Port |   |\n",
    "| Destination IP |   |\n",
    "| Destination Port |   |\n",
    "| Protocol |   |\n",
    "| Timestamp |   |\n",
    "| Flow Duration | Duration of the flow in Microsecond  |\n",
    "| Total Fwd Packets <br> Total Backward Packets|  Total packets in the forward (backward) direction |\n",
    "| Total Length of Fwd Packets <br>  Total Length of Bwd Packets| Total size of packet in forward (backward) direction |\n",
    "| Fwd Packet Length Max <br> Fwd Packet Length Min <br> Fwd Packet Length Mean <br> Fwd Packet Length Std <br> Bwd Packet Length Max <br> Bwd Packet Length Min <br> Bwd Packet Length Mean <br> Bwd Packet Length Std|  Max (Min, Mean, SD) size of packet in backward  (backward)  direction |\n",
    "| Flow Bytes/s <br> Flow Packets/s |  Number of flow packets (bytes) per second |\n",
    "| Flow IAT Mean <br> Flow IAT Std <br> Flow IAT Max <br> Flow IAT Min | Mean (SD, Max, Min) time between two packets sent in the flow  |\n",
    "| Fwd IAT Total <br> Fwd IAT Mean <br> Fwd IAT Std <br> Fwd IAT Max  <br> Fwd IAT Min | Total time (Mean, SD, Max, Min) between two packets sent in the forward direction  |\n",
    "| Bwd IAT Total <br> Bwd IAT Mean <br> Bwd IAT Std <br> Bwd IAT Max  <br> Bwd IAT Min | Total time (Mean, SD, Max, Min) between two packets sent in the backward direction |\n",
    "| Fwd PSH Flags <br> Bwd PSH Flags | Number of times the PSH flag was set in packets travelling in the forward (backward) direction (0 for UDP)  |\n",
    "| Fwd URG Flags <br> Bwd URG Flags | Number of times the URG flag was set in packets travelling in the forward (backward) direction (0 for UDP)  |\n",
    "| Fwd Header Length <br> Bwd Header Length | Total bytes used for headers in the forward direction  |\n",
    "| Fwd Packets/s <br> Bwd Packets/s | Number of forward (backward) packets per second  |\n",
    "| Min Packet Length <br>  Max Packet Length <br> Packet Length Mean <br> Packet Length Std  <br> Packet Length Variance <br>  | Mean (Max, Mean, SD, Variance) length of a packet |\n",
    "| FIN Flag Count <br> SYN Flag Count <br> RST Flag Count <br> PSH Flag Count <br> ACK Flag Count <br> URG Flag Count  <br> CWE Flag Count  <br> ECE Flag Count |  Number of packets with FIN (SYN, RST, PSH, ACK, URG, CWE, ECE) |\n",
    "| Down/Up Ratio | Download and upload ratio |\n",
    "| Average Packet Size | Average size of packet |\n",
    "| Avg Fwd Segment Size <br> Avg Bwd Segment Size | Average size observed in the forward  (backward) direction |\n",
    "| Fwd Header Length.1 |   |\n",
    "| Fwd Avg Bytes/Bulk <br> Fwd Avg Packets/Bulk <br> Fwd Avg Bulk Rate | Average number of bytes (packets, bulk) bulk rate in the forward direction   |\n",
    "| Bwd Avg Bytes/Bulk <br> Bwd Avg Packets/Bulk <br> Bwd Avg Bulk Rate | Average number of bytes (packets, bulk) bulk rate in the backward direction  |\n",
    "| Sub Flow Fwd Packets <br> Sub Flow Fwd Bytes| The average number of packets (bytes) in a sub flow in the forward direction  |\n",
    "| Sub Flow Bwd Packets <br> Sub Flow Bwd Bytes | The average number of packets (bytes) in a sub flow in the backward direction   |\n",
    "| Init_Win_bytes_forward <br> Init_Win_bytes_backward  | The total number of bytes sent in initial window in the forward (backward) direction |\n",
    "| act_data_pkt_ Fwd | Count of packets with at least 1 byte of TCP data payload in the forward direction |\n",
    "| Min_seg_size_forward | Minimum segment size observed in the forward direction |\n",
    "| Active Mean (Std, Max, Min) | Mean (Standard deviation, Maximum, Minimum) time a flow was active before becoming idle  |\n",
    "| Idle Mean (Std, Max, Min) | Mean (Standard deviation, Maximum, Minimum) time a flow was idle before becoming active |\n",
    "| SimillarHTTP |   |\n",
    "| Inbound |   |\n",
    "| Label |   |"
   ]
  },
  {
   "cell_type": "markdown",
   "metadata": {},
   "source": [
    "# Read data"
   ]
  },
  {
   "cell_type": "code",
   "execution_count": 2,
   "metadata": {},
   "outputs": [
    {
     "name": "stdout",
     "output_type": "stream",
     "text": [
      "['03-11/', '03-11/UDPLag.csv', '03-11/UDP.csv', '03-11/.~lock.UDPLag.csv#', '03-11/LDAP.csv', '03-11/MSSQL.csv', '03-11/NetBIOS.csv', '03-11/Portmap.csv', '03-11/Syn.csv']\n"
     ]
    }
   ],
   "source": [
    "archive = 'CSV-03-11.zip' #''CSV-01-12.zip'\n",
    "with ZipFile(path_data + archive) as myzip:\n",
    "    # list available files in the container\n",
    "    print(myzip.namelist())"
   ]
  },
  {
   "cell_type": "markdown",
   "metadata": {},
   "source": [
    "## Spark"
   ]
  },
  {
   "cell_type": "code",
   "execution_count": 3,
   "metadata": {},
   "outputs": [],
   "source": [
    "import os\n",
    "# os.environ[\"PYSPARK_PYTHON\"] = \"python\"\n",
    "# os.environ[\"PYSPARK_DRIVER_PYTHON\"] = \"python\"\n",
    "# os.environ[\"SPARK_LOCAL_IP\"] = \"127.0.0.1\""
   ]
  },
  {
   "cell_type": "code",
   "execution_count": 4,
   "metadata": {},
   "outputs": [],
   "source": [
    "from pyspark.sql import SparkSession\n",
    "from pyspark.sql import functions as f\n",
    "spark = SparkSession.builder.appName('DrDoS_DNS').getOrCreate()"
   ]
  },
  {
   "cell_type": "code",
   "execution_count": 5,
   "metadata": {},
   "outputs": [],
   "source": [
    "# # Create DataFrame\n",
    "# df2 = spark.createDataFrame([\n",
    "#     (\"2018-11-03 10:01:48.920574\", 1),\n",
    "#     (\"2018-11-03 10:01:48.920625\", 1),\n",
    "#     (\"2018-12-01 10:51:39.852499\", 48549)], [\"Timestamp\", \"Flow Duration\"])\n",
    "# df2.show()"
   ]
  },
  {
   "cell_type": "code",
   "execution_count": 6,
   "metadata": {},
   "outputs": [
    {
     "name": "stdout",
     "output_type": "stream",
     "text": [
      "Shape:  (5074413, 88)\n",
      "+----------+--------------------+------------+-----------+--------------+----------------+--------+--------------------+-------------+-----------------+----------------------+---------------------------+---------------------------+---------------------+---------------------+----------------------+---------------------+---------------------+---------------------+----------------------+---------------------+------------------+------------------+------------------+------------------+------------+------------+-------------+------------------+------------------+-----------+-----------+-------------+------------+-----------+-----------+-----------+-------------+-------------+-------------+-------------+-----------------+-----------------+------------------+-------------+-----------------+-----------------+------------------+-----------------+----------------------+--------------+--------------+--------------+--------------+--------------+--------------+--------------+--------------+-------------+-------------------+--------------------+--------------------+-------------------+------------------+--------------------+-----------------+------------------+--------------------+-----------------+-------------------+-----------------+-------------------+-----------------+----------------------+-----------------------+----------------+--------------------+-----------+----------+----------+----------+---------+--------+--------+--------+------------+-------+---------+\n",
      "|Unnamed: 0|             Flow ID|   Source IP|Source Port|Destination IP|Destination Port|Protocol|           Timestamp|Flow Duration|Total Fwd Packets|Total Backward Packets|Total Length of Fwd Packets|Total Length of Bwd Packets|Fwd Packet Length Max|Fwd Packet Length Min|Fwd Packet Length Mean|Fwd Packet Length Std|Bwd Packet Length Max|Bwd Packet Length Min|Bwd Packet Length Mean|Bwd Packet Length Std|      Flow Bytes/s|    Flow Packets/s|     Flow IAT Mean|      Flow IAT Std|Flow IAT Max|Flow IAT Min|Fwd IAT Total|      Fwd IAT Mean|       Fwd IAT Std|Fwd IAT Max|Fwd IAT Min|Bwd IAT Total|Bwd IAT Mean|Bwd IAT Std|Bwd IAT Max|Bwd IAT Min|Fwd PSH Flags|Bwd PSH Flags|Fwd URG Flags|Bwd URG Flags|Fwd Header Length|Bwd Header Length|     Fwd Packets/s|Bwd Packets/s|Min Packet Length|Max Packet Length|Packet Length Mean|Packet Length Std|Packet Length Variance|FIN Flag Count|SYN Flag Count|RST Flag Count|PSH Flag Count|ACK Flag Count|URG Flag Count|CWE Flag Count|ECE Flag Count|Down/Up Ratio|Average Packet Size|Avg Fwd Segment Size|Avg Bwd Segment Size|Fwd Header Length.1|Fwd Avg Bytes/Bulk|Fwd Avg Packets/Bulk|Fwd Avg Bulk Rate|Bwd Avg Bytes/Bulk|Bwd Avg Packets/Bulk|Bwd Avg Bulk Rate|Subflow Fwd Packets|Subflow Fwd Bytes|Subflow Bwd Packets|Subflow Bwd Bytes|Init_Win_bytes_forward|Init_Win_bytes_backward|act_data_pkt_fwd|min_seg_size_forward|Active Mean|Active Std|Active Max|Active Min|Idle Mean|Idle Std|Idle Max|Idle Min|SimillarHTTP|Inbound|    Label|\n",
      "+----------+--------------------+------------+-----------+--------------+----------------+--------+--------------------+-------------+-----------------+----------------------+---------------------------+---------------------------+---------------------+---------------------+----------------------+---------------------+---------------------+---------------------+----------------------+---------------------+------------------+------------------+------------------+------------------+------------+------------+-------------+------------------+------------------+-----------+-----------+-------------+------------+-----------+-----------+-----------+-------------+-------------+-------------+-------------+-----------------+-----------------+------------------+-------------+-----------------+-----------------+------------------+-----------------+----------------------+--------------+--------------+--------------+--------------+--------------+--------------+--------------+--------------+-------------+-------------------+--------------------+--------------------+-------------------+------------------+--------------------+-----------------+------------------+--------------------+-----------------+-------------------+-----------------+-------------------+-----------------+----------------------+-----------------------+----------------+--------------------+-----------+----------+----------+----------+---------+--------+--------+--------+------------+-------+---------+\n",
      "|       425|172.16.0.5-192.16...|  172.16.0.5|        634|  192.168.50.1|           60495|      17|2018-12-01 10:51:...|        28415|               97|                     0|                    42680.0|                        0.0|                440.0|                440.0|                 440.0|                  0.0|                  0.0|                  0.0|                   0.0|                  0.0|1502023.5790955483| 3413.689952489882|295.98958333333337|500.95930068517794|      3596.0|         1.0|      28415.0|295.98958333333337|500.95930068517794|     3596.0|        1.0|          0.0|         0.0|        0.0|        0.0|        0.0|            0|            0|            0|            0|              -97|                0| 3413.689952489882|          0.0|            440.0|            440.0|             440.0|              0.0|                   0.0|             0|             0|             0|             0|             0|             0|             0|             0|          0.0|  444.5360824742268|               440.0|                 0.0|                -97|                 0|                   0|                0|                 0|                   0|                0|                 97|            42680|                  0|                0|                    -1|                     -1|              96|                  -1|        0.0|       0.0|       0.0|       0.0|      0.0|     0.0|     0.0|     0.0|           0|      1|DrDoS_DNS|\n",
      "|       430|172.16.0.5-192.16...|192.168.50.1|        634|    172.16.0.5|           60495|      17|2018-12-01 10:51:...|            2|                2|                     0|                      880.0|                        0.0|                440.0|                440.0|                 440.0|                  0.0|                  0.0|                  0.0|                   0.0|                  0.0|             4.4E8|         1000000.0|               2.0|               0.0|         2.0|         2.0|          2.0|               2.0|               0.0|        2.0|        2.0|          0.0|         0.0|        0.0|        0.0|        0.0|            0|            0|            0|            0|               -2|                0|         1000000.0|          0.0|            440.0|            440.0|             440.0|              0.0|                   0.0|             0|             0|             0|             0|             0|             0|             0|             0|          0.0|              660.0|               440.0|                 0.0|                 -2|                 0|                   0|                0|                 0|                   0|                0|                  2|              880|                  0|                0|                    -1|                     -1|               1|                  -1|        0.0|       0.0|       0.0|       0.0|      0.0|     0.0|     0.0|     0.0|           0|      0|DrDoS_DNS|\n",
      "|      1654|172.16.0.5-192.16...|  172.16.0.5|        634|  192.168.50.1|           46391|      17|2018-12-01 10:51:...|        48549|              200|                     0|                    88000.0|                        0.0|                440.0|                440.0|                 440.0|                  0.0|                  0.0|                  0.0|                   0.0|                  0.0|1812601.7013738696| 4119.549321304249| 243.9648241206029| 578.1013714964747|      5418.0|         1.0|      48549.0| 243.9648241206029| 578.1013714964747|     5418.0|        1.0|          0.0|         0.0|        0.0|        0.0|        0.0|            0|            0|            0|            0|             -200|                0| 4119.549321304249|          0.0|            440.0|            440.0|             440.0|              0.0|                   0.0|             0|             0|             0|             0|             0|             0|             0|             0|          0.0|              442.2|               440.0|                 0.0|               -200|                 0|                   0|                0|                 0|                   0|                0|                200|            88000|                  0|                0|                    -1|                     -1|             199|                  -1|        0.0|       0.0|       0.0|       0.0|      0.0|     0.0|     0.0|     0.0|           0|      1|DrDoS_DNS|\n",
      "|      2927|172.16.0.5-192.16...|  172.16.0.5|        634|  192.168.50.1|           11894|      17|2018-12-01 10:51:...|        48337|              200|                     0|                    88000.0|                        0.0|                440.0|                440.0|                 440.0|                  0.0|                  0.0|                  0.0|                   0.0|                  0.0|   1820551.5443656|4137.6171462854545|242.89949748743717| 485.2926951327838|      3337.0|         1.0|      48337.0|242.89949748743717| 485.2926951327838|     3337.0|        1.0|          0.0|         0.0|        0.0|        0.0|        0.0|            0|            0|            0|            0|             -200|                0|4137.6171462854545|          0.0|            440.0|            440.0|             440.0|              0.0|                   0.0|             0|             0|             0|             0|             0|             0|             0|             0|          0.0|              442.2|               440.0|                 0.0|               -200|                 0|                   0|                0|                 0|                   0|                0|                200|            88000|                  0|                0|                    -1|                     -1|             199|                  -1|        0.0|       0.0|       0.0|       0.0|      0.0|     0.0|     0.0|     0.0|           0|      1|DrDoS_DNS|\n",
      "|       694|172.16.0.5-192.16...|  172.16.0.5|        634|  192.168.50.1|           27878|      17|2018-12-01 10:51:...|        32026|              200|                     0|                    88000.0|                        0.0|                440.0|                440.0|                 440.0|                  0.0|                  0.0|                  0.0|                   0.0|                  0.0|2747767.4389558486| 6244.925997626929|160.93467336683412| 196.8912707017617|      1236.0|         0.0|      32026.0|160.93467336683412| 196.8912707017617|     1236.0|        0.0|          0.0|         0.0|        0.0|        0.0|        0.0|            0|            0|            0|            0|             -200|                0| 6244.925997626929|          0.0|            440.0|            440.0|             440.0|              0.0|                   0.0|             0|             0|             0|             0|             0|             0|             0|             0|          0.0|              442.2|               440.0|                 0.0|               -200|                 0|                   0|                0|                 0|                   0|                0|                200|            88000|                  0|                0|                    -1|                     -1|             199|                  -1|        0.0|       0.0|       0.0|       0.0|      0.0|     0.0|     0.0|     0.0|           0|      1|DrDoS_DNS|\n",
      "+----------+--------------------+------------+-----------+--------------+----------------+--------+--------------------+-------------+-----------------+----------------------+---------------------------+---------------------------+---------------------+---------------------+----------------------+---------------------+---------------------+---------------------+----------------------+---------------------+------------------+------------------+------------------+------------------+------------+------------+-------------+------------------+------------------+-----------+-----------+-------------+------------+-----------+-----------+-----------+-------------+-------------+-------------+-------------+-----------------+-----------------+------------------+-------------+-----------------+-----------------+------------------+-----------------+----------------------+--------------+--------------+--------------+--------------+--------------+--------------+--------------+--------------+-------------+-------------------+--------------------+--------------------+-------------------+------------------+--------------------+-----------------+------------------+--------------------+-----------------+-------------------+-----------------+-------------------+-----------------+----------------------+-----------------------+----------------+--------------------+-----------+----------+----------+----------+---------+--------+--------+--------+------------+-------+---------+\n",
      "only showing top 5 rows\n",
      "\n"
     ]
    }
   ],
   "source": [
    "df = spark.read.option(\"header\", \"true\").csv(path_data + \"DrDoS_DNS.csv\")\n",
    "\n",
    "# rename columns\n",
    "import re\n",
    "new_names = [re.sub('^\\s+|\\s+$/g', \"\", col) for col in df.columns]\n",
    "df = df.toDF(*new_names)\n",
    "\n",
    "print('Shape: ', (df.count(), len(df.columns)))\n",
    "df.show(5)"
   ]
  },
  {
   "cell_type": "code",
   "execution_count": 7,
   "metadata": {},
   "outputs": [
    {
     "name": "stdout",
     "output_type": "stream",
     "text": [
      "+---------+-------+\n",
      "|    Label|  count|\n",
      "+---------+-------+\n",
      "|DrDoS_DNS|5071011|\n",
      "|   BENIGN|   3402|\n",
      "+---------+-------+\n",
      "\n"
     ]
    }
   ],
   "source": [
    "# check label feature ratio\n",
    "df.groupBy('Label').count().orderBy('count', ascending=False).show()"
   ]
  },
  {
   "cell_type": "code",
   "execution_count": 8,
   "metadata": {},
   "outputs": [
    {
     "name": "stdout",
     "output_type": "stream",
     "text": [
      "Shape sample_1:  (3402, 88)\n",
      "Shape sample_2:  (6804, 88)\n",
      "Shape merged df:  (10206, 88)\n"
     ]
    }
   ],
   "source": [
    "# Select rows\n",
    "sample_1 = df.filter(df.Label.contains(\"BENIGN\"))\n",
    "print('Shape sample_1: ', (sample_1.count(), len(sample_1.columns)))\n",
    "\n",
    "# Select rows\n",
    "sample_2 = df.filter(df.Label.contains(\"DrDoS_DNS\")).limit(sample_1.count() * 2) #NetBIOS\n",
    "print('Shape sample_2: ', (sample_2.count(), len(sample_2.columns)))\n",
    "\n",
    "data = sample_1.union(sample_2)\n",
    "print('Shape merged df: ',(data.count(), len(data.columns)))"
   ]
  },
  {
   "cell_type": "markdown",
   "metadata": {},
   "source": [
    "### Select useful colomns"
   ]
  },
  {
   "cell_type": "code",
   "execution_count": 9,
   "metadata": {},
   "outputs": [
    {
     "name": "stdout",
     "output_type": "stream",
     "text": [
      "+-------------+-----------------+----------------------+---------------------------+---------------------------+----------------------+---------------------+-------------------+----------------------+---------------------+-----------------+-----------------+-------------+-------------+----------+---------+------+\n",
      "|Flow Duration|Total Fwd Packets|Total Backward Packets|Total Length of Fwd Packets|Total Length of Bwd Packets|Fwd Packet Length Mean|Fwd Packet Length Std|Average Packet Size|Bwd Packet Length Mean|Bwd Packet Length Std|Fwd Header Length|Bwd Header Length|Fwd Packets/s|Bwd Packets/s| Idle Mean| Idle Std| Label|\n",
      "+-------------+-----------------+----------------------+---------------------------+---------------------------+----------------------+---------------------+-------------------+----------------------+---------------------+-----------------+-----------------+-------------+-------------+----------+---------+------+\n",
      "|    110861755|               26|                    26|                        616|                        768|                 23.69|                80.46|              26.63|                 29.54|               104.35|              520|              784|         0.23|         0.23|9863210.09|413171.81|BENIGN|\n",
      "|     40335006|                9|                    10|                          8|                         62|                  0.89|                 0.33|               3.74|                   6.2|                13.07|              180|              200|         0.22|         0.25|9993447.25| 40495.75|BENIGN|\n",
      "+-------------+-----------------+----------------------+---------------------------+---------------------------+----------------------+---------------------+-------------------+----------------------+---------------------+-----------------+-----------------+-------------+-------------+----------+---------+------+\n",
      "only showing top 2 rows\n",
      "\n"
     ]
    }
   ],
   "source": [
    "data = data.select(['Flow Duration', #'Timestamp',\n",
    "    'Total Fwd Packets', 'Total Backward Packets', 'Total Length of Fwd Packets', \n",
    "    'Total Length of Bwd Packets', 'Fwd Packet Length Mean', 'Fwd Packet Length Std',\n",
    "    'Average Packet Size', 'Bwd Packet Length Mean', 'Bwd Packet Length Std',\n",
    "    'Fwd Header Length', 'Bwd Header Length', 'Fwd Packets/s', 'Bwd Packets/s',\n",
    "    'Idle Mean',  'Idle Std', 'Label'])\n",
    "#data.show(2)\n",
    "\n",
    "for c in ['Fwd Packet Length Mean', 'Fwd Packet Length Std', 'Average Packet Size', \n",
    "          'Bwd Packet Length Mean', 'Bwd Packet Length Std',  'Fwd Packets/s', \n",
    "    'Bwd Packets/s', 'Idle Mean', 'Idle Std']:\n",
    "    data = data.withColumn(c, f.round(c, 2).cast(\"double\"))\n",
    "    \n",
    "for c in ['Flow Duration', 'Total Fwd Packets', 'Total Backward Packets', \n",
    "    'Total Length of Fwd Packets', 'Total Length of Bwd Packets',\n",
    "    'Fwd Header Length', 'Bwd Header Length', ]:\n",
    "    data = data.withColumn(c, f.round(c, 4).cast(\"integer\"))\n",
    "    \n",
    "data.show(2)"
   ]
  },
  {
   "cell_type": "code",
   "execution_count": 10,
   "metadata": {},
   "outputs": [
    {
     "name": "stdout",
     "output_type": "stream",
     "text": [
      "Shape merged df:  (10206, 17)\n"
     ]
    }
   ],
   "source": [
    "print('Shape merged df: ',(data.count(), len(data.columns)))"
   ]
  },
  {
   "cell_type": "markdown",
   "metadata": {},
   "source": [
    "### Pipeline stages"
   ]
  },
  {
   "cell_type": "code",
   "execution_count": 11,
   "metadata": {},
   "outputs": [],
   "source": [
    "from pyspark.ml.feature import (VectorAssembler, \n",
    "    VectorIndexer, OneHotEncoder, StringIndexer, MinMaxScaler)\n",
    "\n",
    "# ___ Categorical data ___\n",
    "# Convert string label to index (BENIGN / attack)\n",
    "label_indexer = StringIndexer(inputCol='Label', outputCol='LabelIndex')\n",
    "\n",
    "# OneHotEncoding of indexed column\n",
    "label_encoder = OneHotEncoder(\n",
    "    inputCol='LabelIndex', outputCol='LabelVec')\n",
    "\n",
    "# ___ Numerical ___\n",
    "# Assemble numerical features into a vector for scaling\n",
    "num_assembler = VectorAssembler(\n",
    "    inputCols=['Flow Duration',  'Total Fwd Packets', 'Total Backward Packets', \n",
    "        'Total Length of Fwd Packets', 'Total Length of Bwd Packets','Fwd Packet Length Mean',\n",
    "    'Fwd Packet Length Std','Average Packet Size','Bwd Packet Length Mean',\n",
    "    'Bwd Packet Length Std','Fwd Header Length','Bwd Header Length',\n",
    "    'Fwd Packets/s','Bwd Packets/s','Idle Mean', 'Idle Std'\n",
    "    ], outputCol='feature_num_vector'\n",
    ")\n",
    "\n",
    "# Normalize numerical features \n",
    "scaler = MinMaxScaler(\n",
    "    inputCol=\"feature_num_vector\", outputCol=\"features\")"
   ]
  },
  {
   "cell_type": "code",
   "execution_count": 12,
   "metadata": {},
   "outputs": [],
   "source": [
    "from pyspark.ml.classification import LogisticRegression\n",
    "from pyspark.ml import Pipeline\n",
    "\n",
    "# Train a classifier using the numeric label\n",
    "lr = LogisticRegression(\n",
    "    featuresCol='features',  #'feature_num_vector'\n",
    "    labelCol='LabelIndex',\n",
    "    maxIter=10, regParam=0.01)\n",
    "\n",
    "# Define the pipeline\n",
    "pipeline = Pipeline(stages=[ \n",
    "    label_indexer, num_assembler, scaler, lr]) \n",
    "\n",
    "# Split the data\n",
    "(train, test) = data.randomSplit([0.7, 0.3], seed=42)"
   ]
  },
  {
   "cell_type": "code",
   "execution_count": 13,
   "metadata": {},
   "outputs": [
    {
     "name": "stdout",
     "output_type": "stream",
     "text": [
      "AUC score: 0.983\n"
     ]
    }
   ],
   "source": [
    "from pyspark.ml.evaluation import BinaryClassificationEvaluator\n",
    "\n",
    "# train the model\n",
    "model = pipeline.fit(train)\n",
    "\n",
    "# predict\n",
    "y_pred = model.transform(test)\n",
    "\n",
    "eval = BinaryClassificationEvaluator(\n",
    "    rawPredictionCol='prediction', labelCol='LabelIndex')\n",
    "\n",
    "#y_pred.select('LabelIndex', 'prediction').show(2)\n",
    "\n",
    "auc = eval.evaluate(y_pred)\n",
    "print('AUC score: {:.3}'.format(auc))"
   ]
  },
  {
   "cell_type": "code",
   "execution_count": null,
   "metadata": {},
   "outputs": [],
   "source": []
  },
  {
   "cell_type": "code",
   "execution_count": 20,
   "metadata": {},
   "outputs": [
    {
     "data": {
      "text/plain": [
       "[StringIndexerModel: uid=StringIndexer_ddf15806b7db, handleInvalid=error,\n",
       " VectorAssembler_084d7332a0be,\n",
       " MinMaxScalerModel: uid=MinMaxScaler_e15f61084535, numFeatures=16, min=0.0, max=1.0,\n",
       " LogisticRegressionModel: uid=LogisticRegression_d71ff39738dd, numClasses=2, numFeatures=16]"
      ]
     },
     "execution_count": 20,
     "metadata": {},
     "output_type": "execute_result"
    }
   ],
   "source": [
    "model.stages#3]"
   ]
  },
  {
   "cell_type": "markdown",
   "metadata": {},
   "source": [
    "# Futrher Analysis"
   ]
  },
  {
   "cell_type": "code",
   "execution_count": null,
   "metadata": {},
   "outputs": [
    {
     "data": {
      "text/html": [
       "<div>\n",
       "<style scoped>\n",
       "    .dataframe tbody tr th:only-of-type {\n",
       "        vertical-align: middle;\n",
       "    }\n",
       "\n",
       "    .dataframe tbody tr th {\n",
       "        vertical-align: top;\n",
       "    }\n",
       "\n",
       "    .dataframe thead th {\n",
       "        text-align: right;\n",
       "    }\n",
       "</style>\n",
       "<table border=\"1\" class=\"dataframe\">\n",
       "  <thead>\n",
       "    <tr style=\"text-align: right;\">\n",
       "      <th></th>\n",
       "      <th>Flow ID</th>\n",
       "      <th>Source IP</th>\n",
       "      <th>Source Port</th>\n",
       "      <th>Destination IP</th>\n",
       "      <th>Destination Port</th>\n",
       "      <th>Protocol</th>\n",
       "      <th>Timestamp</th>\n",
       "      <th>Flow Duration</th>\n",
       "      <th>Total Fwd Packets</th>\n",
       "      <th>Total Backward Packets</th>\n",
       "      <th>...</th>\n",
       "      <th>Active Std</th>\n",
       "      <th>Active Max</th>\n",
       "      <th>Active Min</th>\n",
       "      <th>Idle Mean</th>\n",
       "      <th>Idle Std</th>\n",
       "      <th>Idle Max</th>\n",
       "      <th>Idle Min</th>\n",
       "      <th>SimillarHTTP</th>\n",
       "      <th>Inbound</th>\n",
       "      <th>Label</th>\n",
       "    </tr>\n",
       "    <tr>\n",
       "      <th>Unnamed: 0</th>\n",
       "      <th></th>\n",
       "      <th></th>\n",
       "      <th></th>\n",
       "      <th></th>\n",
       "      <th></th>\n",
       "      <th></th>\n",
       "      <th></th>\n",
       "      <th></th>\n",
       "      <th></th>\n",
       "      <th></th>\n",
       "      <th></th>\n",
       "      <th></th>\n",
       "      <th></th>\n",
       "      <th></th>\n",
       "      <th></th>\n",
       "      <th></th>\n",
       "      <th></th>\n",
       "      <th></th>\n",
       "      <th></th>\n",
       "      <th></th>\n",
       "      <th></th>\n",
       "    </tr>\n",
       "  </thead>\n",
       "  <tbody>\n",
       "    <tr>\n",
       "      <th>5839</th>\n",
       "      <td>172.16.0.5-192.168.50.1-900-7647-17</td>\n",
       "      <td>172.16.0.5</td>\n",
       "      <td>900</td>\n",
       "      <td>192.168.50.1</td>\n",
       "      <td>7647</td>\n",
       "      <td>17</td>\n",
       "      <td>2018-12-01 11:22:42.998548</td>\n",
       "      <td>2</td>\n",
       "      <td>2</td>\n",
       "      <td>0</td>\n",
       "      <td>...</td>\n",
       "      <td>0.0</td>\n",
       "      <td>0.0</td>\n",
       "      <td>0.0</td>\n",
       "      <td>0.0</td>\n",
       "      <td>0.0</td>\n",
       "      <td>0.0</td>\n",
       "      <td>0.0</td>\n",
       "      <td>0</td>\n",
       "      <td>1</td>\n",
       "      <td>DrDoS_LDAP</td>\n",
       "    </tr>\n",
       "    <tr>\n",
       "      <th>7153</th>\n",
       "      <td>172.16.0.5-192.168.50.1-586-14573-17</td>\n",
       "      <td>172.16.0.5</td>\n",
       "      <td>586</td>\n",
       "      <td>192.168.50.1</td>\n",
       "      <td>14573</td>\n",
       "      <td>17</td>\n",
       "      <td>2018-12-01 11:22:42.998673</td>\n",
       "      <td>2</td>\n",
       "      <td>2</td>\n",
       "      <td>0</td>\n",
       "      <td>...</td>\n",
       "      <td>0.0</td>\n",
       "      <td>0.0</td>\n",
       "      <td>0.0</td>\n",
       "      <td>0.0</td>\n",
       "      <td>0.0</td>\n",
       "      <td>0.0</td>\n",
       "      <td>0.0</td>\n",
       "      <td>0</td>\n",
       "      <td>1</td>\n",
       "      <td>DrDoS_LDAP</td>\n",
       "    </tr>\n",
       "  </tbody>\n",
       "</table>\n",
       "<p>2 rows × 87 columns</p>\n",
       "</div>"
      ],
      "text/plain": [
       "                                         Flow ID   Source IP  Source Port  \\\n",
       "Unnamed: 0                                                                  \n",
       "5839         172.16.0.5-192.168.50.1-900-7647-17  172.16.0.5          900   \n",
       "7153        172.16.0.5-192.168.50.1-586-14573-17  172.16.0.5          586   \n",
       "\n",
       "           Destination IP  Destination Port  Protocol  \\\n",
       "Unnamed: 0                                              \n",
       "5839         192.168.50.1              7647        17   \n",
       "7153         192.168.50.1             14573        17   \n",
       "\n",
       "                             Timestamp  Flow Duration  Total Fwd Packets  \\\n",
       "Unnamed: 0                                                                 \n",
       "5839        2018-12-01 11:22:42.998548              2                  2   \n",
       "7153        2018-12-01 11:22:42.998673              2                  2   \n",
       "\n",
       "            Total Backward Packets  ...  Active Std  Active Max  Active Min  \\\n",
       "Unnamed: 0                          ...                                       \n",
       "5839                             0  ...         0.0         0.0         0.0   \n",
       "7153                             0  ...         0.0         0.0         0.0   \n",
       "\n",
       "            Idle Mean  Idle Std  Idle Max  Idle Min  SimillarHTTP  Inbound  \\\n",
       "Unnamed: 0                                                                   \n",
       "5839              0.0       0.0       0.0       0.0             0        1   \n",
       "7153              0.0       0.0       0.0       0.0             0        1   \n",
       "\n",
       "                 Label  \n",
       "Unnamed: 0              \n",
       "5839        DrDoS_LDAP  \n",
       "7153        DrDoS_LDAP  \n",
       "\n",
       "[2 rows x 87 columns]"
      ]
     },
     "execution_count": 3,
     "metadata": {},
     "output_type": "execute_result"
    }
   ],
   "source": [
    "# remove spaces from feature names\n",
    "import re\n",
    "#rename_dic = dict()\n",
    "\n",
    "\n",
    "with ZipFile(path_data+'CSV-01-12.zip') as myzip, myzip.open('01-12/DrDoS_LDAP.csv', 'r') as myfile:\n",
    "    # list available files in the container\n",
    "    # print(myzip.namelist())\n",
    "    df = pd.read_csv(myfile, index_col='Unnamed: 0', low_memory=False,\n",
    "                     nrows=1e5, skiprows=range(1, 10000))\n",
    "    \n",
    "# for i in df.columns:\n",
    "#     rename_dic[i] = re.sub('^\\s+|\\s+$/g', \"\", i)\n",
    "# df.rename(columns=rename_dic, inplace=True)\n",
    "df.columns = [re.sub('^\\s+|\\s+$/g', \"\", col) for col in df.columns]\n",
    "\n",
    "df.sort_values(by='Timestamp', inplace=True)\n",
    "\n",
    "#df.columns\n",
    "df.head(2)"
   ]
  },
  {
   "cell_type": "code",
   "execution_count": null,
   "metadata": {},
   "outputs": [],
   "source": [
    "col = df.columns"
   ]
  },
  {
   "cell_type": "code",
   "execution_count": null,
   "metadata": {},
   "outputs": [
    {
     "data": {
      "text/plain": [
       "Label\n",
       "DrDoS_LDAP    99971\n",
       "BENIGN           29\n",
       "Name: count, dtype: int64"
      ]
     },
     "execution_count": 383,
     "metadata": {},
     "output_type": "execute_result"
    }
   ],
   "source": [
    "df['Label'].value_counts()"
   ]
  },
  {
   "cell_type": "code",
   "execution_count": null,
   "metadata": {},
   "outputs": [],
   "source": [
    "# with ZipFile(path_data + archive) as myzip, myzip.open('03-11/Portmap.csv', 'r') as myfile: #'01-12/DrDoS_LDAP.csv'\n",
    "#     df1 = pd.read_csv(myfile, nrows=10, low_memory=False);#,index_col='Unnamed: 0' \n",
    "\n",
    "# df1.head()"
   ]
  },
  {
   "cell_type": "markdown",
   "metadata": {},
   "source": [
    "# Feature analysis"
   ]
  },
  {
   "cell_type": "code",
   "execution_count": null,
   "metadata": {},
   "outputs": [
    {
     "data": {
      "text/html": [
       "<div>\n",
       "<style scoped>\n",
       "    .dataframe tbody tr th:only-of-type {\n",
       "        vertical-align: middle;\n",
       "    }\n",
       "\n",
       "    .dataframe tbody tr th {\n",
       "        vertical-align: top;\n",
       "    }\n",
       "\n",
       "    .dataframe thead th {\n",
       "        text-align: right;\n",
       "    }\n",
       "</style>\n",
       "<table border=\"1\" class=\"dataframe\">\n",
       "  <thead>\n",
       "    <tr style=\"text-align: right;\">\n",
       "      <th></th>\n",
       "      <th>Flow ID</th>\n",
       "      <th>Source IP</th>\n",
       "      <th>Source Port</th>\n",
       "      <th>Destination IP</th>\n",
       "      <th>Destination Port</th>\n",
       "      <th>Protocol</th>\n",
       "      <th>Timestamp</th>\n",
       "      <th>Flow Duration</th>\n",
       "      <th>Total Fwd Packets</th>\n",
       "      <th>Total Backward Packets</th>\n",
       "      <th>...</th>\n",
       "      <th>Active Std</th>\n",
       "      <th>Active Max</th>\n",
       "      <th>Active Min</th>\n",
       "      <th>Idle Mean</th>\n",
       "      <th>Idle Std</th>\n",
       "      <th>Idle Max</th>\n",
       "      <th>Idle Min</th>\n",
       "      <th>SimillarHTTP</th>\n",
       "      <th>Inbound</th>\n",
       "      <th>Label</th>\n",
       "    </tr>\n",
       "    <tr>\n",
       "      <th>Unnamed: 0</th>\n",
       "      <th></th>\n",
       "      <th></th>\n",
       "      <th></th>\n",
       "      <th></th>\n",
       "      <th></th>\n",
       "      <th></th>\n",
       "      <th></th>\n",
       "      <th></th>\n",
       "      <th></th>\n",
       "      <th></th>\n",
       "      <th></th>\n",
       "      <th></th>\n",
       "      <th></th>\n",
       "      <th></th>\n",
       "      <th></th>\n",
       "      <th></th>\n",
       "      <th></th>\n",
       "      <th></th>\n",
       "      <th></th>\n",
       "      <th></th>\n",
       "      <th></th>\n",
       "    </tr>\n",
       "  </thead>\n",
       "  <tbody>\n",
       "    <tr>\n",
       "      <th>21010</th>\n",
       "      <td>172.16.0.5-192.168.50.1-0-0-0</td>\n",
       "      <td>172.16.0.5</td>\n",
       "      <td>0</td>\n",
       "      <td>192.168.50.1</td>\n",
       "      <td>0</td>\n",
       "      <td>0</td>\n",
       "      <td>2018-12-01 11:22:40.254769</td>\n",
       "      <td>9141643</td>\n",
       "      <td>85894</td>\n",
       "      <td>28</td>\n",
       "      <td>...</td>\n",
       "      <td>0.0</td>\n",
       "      <td>0.0</td>\n",
       "      <td>0.0</td>\n",
       "      <td>0.0</td>\n",
       "      <td>0.0</td>\n",
       "      <td>0.0</td>\n",
       "      <td>0.0</td>\n",
       "      <td>0</td>\n",
       "      <td>1</td>\n",
       "      <td>DrDoS_LDAP</td>\n",
       "    </tr>\n",
       "    <tr>\n",
       "      <th>20932</th>\n",
       "      <td>172.16.0.5-192.168.50.1-900-1808-17</td>\n",
       "      <td>172.16.0.5</td>\n",
       "      <td>900</td>\n",
       "      <td>192.168.50.1</td>\n",
       "      <td>1808</td>\n",
       "      <td>17</td>\n",
       "      <td>2018-12-01 11:22:40.255361</td>\n",
       "      <td>1</td>\n",
       "      <td>2</td>\n",
       "      <td>0</td>\n",
       "      <td>...</td>\n",
       "      <td>0.0</td>\n",
       "      <td>0.0</td>\n",
       "      <td>0.0</td>\n",
       "      <td>0.0</td>\n",
       "      <td>0.0</td>\n",
       "      <td>0.0</td>\n",
       "      <td>0.0</td>\n",
       "      <td>0</td>\n",
       "      <td>1</td>\n",
       "      <td>DrDoS_LDAP</td>\n",
       "    </tr>\n",
       "  </tbody>\n",
       "</table>\n",
       "<p>2 rows × 87 columns</p>\n",
       "</div>"
      ],
      "text/plain": [
       "                                        Flow ID   Source IP  Source Port  \\\n",
       "Unnamed: 0                                                                 \n",
       "21010             172.16.0.5-192.168.50.1-0-0-0  172.16.0.5            0   \n",
       "20932       172.16.0.5-192.168.50.1-900-1808-17  172.16.0.5          900   \n",
       "\n",
       "           Destination IP  Destination Port  Protocol  \\\n",
       "Unnamed: 0                                              \n",
       "21010        192.168.50.1                 0         0   \n",
       "20932        192.168.50.1              1808        17   \n",
       "\n",
       "                             Timestamp  Flow Duration  Total Fwd Packets  \\\n",
       "Unnamed: 0                                                                 \n",
       "21010       2018-12-01 11:22:40.254769        9141643              85894   \n",
       "20932       2018-12-01 11:22:40.255361              1                  2   \n",
       "\n",
       "            Total Backward Packets  ...  Active Std  Active Max  Active Min  \\\n",
       "Unnamed: 0                          ...                                       \n",
       "21010                           28  ...         0.0         0.0         0.0   \n",
       "20932                            0  ...         0.0         0.0         0.0   \n",
       "\n",
       "            Idle Mean  Idle Std  Idle Max  Idle Min  SimillarHTTP  Inbound  \\\n",
       "Unnamed: 0                                                                   \n",
       "21010             0.0       0.0       0.0       0.0             0        1   \n",
       "20932             0.0       0.0       0.0       0.0             0        1   \n",
       "\n",
       "                 Label  \n",
       "Unnamed: 0              \n",
       "21010       DrDoS_LDAP  \n",
       "20932       DrDoS_LDAP  \n",
       "\n",
       "[2 rows x 87 columns]"
      ]
     },
     "execution_count": 367,
     "metadata": {},
     "output_type": "execute_result"
    }
   ],
   "source": [
    "df.head(2)"
   ]
  },
  {
   "cell_type": "code",
   "execution_count": null,
   "metadata": {},
   "outputs": [],
   "source": [
    "# df = df.astype({\n",
    "#     'Flow ID':'category', 'Protocol':'category', 'Flow Duration':'category',\n",
    "#     'Total Fwd Packets':'category', 'Total Backward Packets':'category',\n",
    "#     'Total Length of Fwd Packets':float16, 'Total Length of Bwd Packets':'category,\n",
    "#     \n",
    "# })\n",
    "    #     , 'Source IP', 'Source Port', 'Destination IP',\n",
    "    #    'Destination Port', 'Timestamp', \n",
    "    #     ,\n",
    "    #    , ,\n",
    "    #    'Fwd Packet Length Max', 'Fwd Packet Length Min',\n",
    "    #    'Fwd Packet Length Mean', 'Fwd Packet Length Std',\n",
    "    #    'Bwd Packet Length Max', 'Bwd Packet Length Min',\n",
    "    #    'Bwd Packet Length Mean', 'Bwd Packet Length Std', 'Flow Bytes/s',\n",
    "    #    'Flow Packets/s', 'Flow IAT Mean', 'Flow IAT Std', 'Flow IAT Max',\n",
    "    #    'Flow IAT Min', 'Fwd IAT Total', 'Fwd IAT Mean', 'Fwd IAT Std',\n",
    "    #    'Fwd IAT Max', 'Fwd IAT Min', 'Bwd IAT Total', 'Bwd IAT Mean',\n",
    "    #    'Bwd IAT Std', 'Bwd IAT Max', 'Bwd IAT Min', 'Fwd PSH Flags',\n",
    "    #    'Bwd PSH Flags', 'Fwd URG Flags', 'Bwd URG Flags', 'Fwd Header Length',\n",
    "    #    'Bwd Header Length', 'Fwd Packets/s', 'Bwd Packets/s',\n",
    "    #    'Min Packet Length', 'Max Packet Length', 'Packet Length Mean',\n",
    "    #    'Packet Length Std', 'Packet Length Variance', 'FIN Flag Count',\n",
    "    #    'SYN Flag Count', 'RST Flag Count', 'PSH Flag Count', 'ACK Flag Count',\n",
    "    #    'URG Flag Count', 'CWE Flag Count', 'ECE Flag Count', 'Down/Up Ratio',\n",
    "    #    'Average Packet Size', 'Avg Fwd Segment Size', 'Avg Bwd Segment Size',\n",
    "    #    'Fwd Header Length.1', 'Fwd Avg Bytes/Bulk', 'Fwd Avg Packets/Bulk',\n",
    "    #    'Fwd Avg Bulk Rate', 'Bwd Avg Bytes/Bulk', 'Bwd Avg Packets/Bulk',\n",
    "    #    'Bwd Avg Bulk Rate', 'Subflow Fwd Packets', 'Subflow Fwd Bytes',\n",
    "    #    'Subflow Bwd Packets', 'Subflow Bwd Bytes', 'Init_Win_bytes_forward',\n",
    "    #    'Init_Win_bytes_backward', 'act_data_pkt_fwd', 'min_seg_size_forward')"
   ]
  },
  {
   "cell_type": "code",
   "execution_count": null,
   "metadata": {},
   "outputs": [
    {
     "name": "stdout",
     "output_type": "stream",
     "text": [
      "<class 'pandas.core.frame.DataFrame'>\n",
      "Index: 100000 entries, 21010 to 18892\n",
      "Data columns (total 87 columns):\n",
      " #   Column                       Non-Null Count   Dtype  \n",
      "---  ------                       --------------   -----  \n",
      " 0   Flow ID                      100000 non-null  object \n",
      " 1   Source IP                    100000 non-null  object \n",
      " 2   Source Port                  100000 non-null  int64  \n",
      " 3   Destination IP               100000 non-null  object \n",
      " 4   Destination Port             100000 non-null  int64  \n",
      " 5   Protocol                     100000 non-null  int64  \n",
      " 6   Timestamp                    100000 non-null  object \n",
      " 7   Flow Duration                100000 non-null  int64  \n",
      " 8   Total Fwd Packets            100000 non-null  int64  \n",
      " 9   Total Backward Packets       100000 non-null  int64  \n",
      " 10  Total Length of Fwd Packets  100000 non-null  float64\n",
      " 11  Total Length of Bwd Packets  100000 non-null  float64\n",
      " 12  Fwd Packet Length Max        100000 non-null  float64\n",
      " 13  Fwd Packet Length Min        100000 non-null  float64\n",
      " 14  Fwd Packet Length Mean       100000 non-null  float64\n",
      " 15  Fwd Packet Length Std        100000 non-null  float64\n",
      " 16  Bwd Packet Length Max        100000 non-null  float64\n",
      " 17  Bwd Packet Length Min        100000 non-null  float64\n",
      " 18  Bwd Packet Length Mean       100000 non-null  float64\n",
      " 19  Bwd Packet Length Std        100000 non-null  float64\n",
      " 20  Flow Bytes/s                 99999 non-null   float64\n",
      " 21  Flow Packets/s               100000 non-null  float64\n",
      " 22  Flow IAT Mean                100000 non-null  float64\n",
      " 23  Flow IAT Std                 100000 non-null  float64\n",
      " 24  Flow IAT Max                 100000 non-null  float64\n",
      " 25  Flow IAT Min                 100000 non-null  float64\n",
      " 26  Fwd IAT Total                100000 non-null  float64\n",
      " 27  Fwd IAT Mean                 100000 non-null  float64\n",
      " 28  Fwd IAT Std                  100000 non-null  float64\n",
      " 29  Fwd IAT Max                  100000 non-null  float64\n",
      " 30  Fwd IAT Min                  100000 non-null  float64\n",
      " 31  Bwd IAT Total                100000 non-null  float64\n",
      " 32  Bwd IAT Mean                 100000 non-null  float64\n",
      " 33  Bwd IAT Std                  100000 non-null  float64\n",
      " 34  Bwd IAT Max                  100000 non-null  float64\n",
      " 35  Bwd IAT Min                  100000 non-null  float64\n",
      " 36  Fwd PSH Flags                100000 non-null  int64  \n",
      " 37  Bwd PSH Flags                100000 non-null  int64  \n",
      " 38  Fwd URG Flags                100000 non-null  int64  \n",
      " 39  Bwd URG Flags                100000 non-null  int64  \n",
      " 40  Fwd Header Length            100000 non-null  int64  \n",
      " 41  Bwd Header Length            100000 non-null  int64  \n",
      " 42  Fwd Packets/s                100000 non-null  float64\n",
      " 43  Bwd Packets/s                100000 non-null  float64\n",
      " 44  Min Packet Length            100000 non-null  float64\n",
      " 45  Max Packet Length            100000 non-null  float64\n",
      " 46  Packet Length Mean           100000 non-null  float64\n",
      " 47  Packet Length Std            100000 non-null  float64\n",
      " 48  Packet Length Variance       100000 non-null  float64\n",
      " 49  FIN Flag Count               100000 non-null  int64  \n",
      " 50  SYN Flag Count               100000 non-null  int64  \n",
      " 51  RST Flag Count               100000 non-null  int64  \n",
      " 52  PSH Flag Count               100000 non-null  int64  \n",
      " 53  ACK Flag Count               100000 non-null  int64  \n",
      " 54  URG Flag Count               100000 non-null  int64  \n",
      " 55  CWE Flag Count               100000 non-null  int64  \n",
      " 56  ECE Flag Count               100000 non-null  int64  \n",
      " 57  Down/Up Ratio                100000 non-null  float64\n",
      " 58  Average Packet Size          100000 non-null  float64\n",
      " 59  Avg Fwd Segment Size         100000 non-null  float64\n",
      " 60  Avg Bwd Segment Size         100000 non-null  float64\n",
      " 61  Fwd Header Length.1          100000 non-null  int64  \n",
      " 62  Fwd Avg Bytes/Bulk           100000 non-null  int64  \n",
      " 63  Fwd Avg Packets/Bulk         100000 non-null  int64  \n",
      " 64  Fwd Avg Bulk Rate            100000 non-null  int64  \n",
      " 65  Bwd Avg Bytes/Bulk           100000 non-null  int64  \n",
      " 66  Bwd Avg Packets/Bulk         100000 non-null  int64  \n",
      " 67  Bwd Avg Bulk Rate            100000 non-null  int64  \n",
      " 68  Subflow Fwd Packets          100000 non-null  int64  \n",
      " 69  Subflow Fwd Bytes            100000 non-null  int64  \n",
      " 70  Subflow Bwd Packets          100000 non-null  int64  \n",
      " 71  Subflow Bwd Bytes            100000 non-null  int64  \n",
      " 72  Init_Win_bytes_forward       100000 non-null  int64  \n",
      " 73  Init_Win_bytes_backward      100000 non-null  int64  \n",
      " 74  act_data_pkt_fwd             100000 non-null  int64  \n",
      " 75  min_seg_size_forward         100000 non-null  int64  \n",
      " 76  Active Mean                  100000 non-null  float64\n",
      " 77  Active Std                   100000 non-null  float64\n",
      " 78  Active Max                   100000 non-null  float64\n",
      " 79  Active Min                   100000 non-null  float64\n",
      " 80  Idle Mean                    100000 non-null  float64\n",
      " 81  Idle Std                     100000 non-null  float64\n",
      " 82  Idle Max                     100000 non-null  float64\n",
      " 83  Idle Min                     100000 non-null  float64\n",
      " 84  SimillarHTTP                 100000 non-null  object \n",
      " 85  Inbound                      100000 non-null  int64  \n",
      " 86  Label                        100000 non-null  object \n",
      "dtypes: float64(45), int64(36), object(6)\n",
      "memory usage: 67.1+ MB\n"
     ]
    }
   ],
   "source": [
    "df.info()"
   ]
  },
  {
   "cell_type": "markdown",
   "metadata": {},
   "source": [
    "### Flow Duration"
   ]
  },
  {
   "cell_type": "code",
   "execution_count": null,
   "metadata": {},
   "outputs": [
    {
     "name": "stdout",
     "output_type": "stream",
     "text": [
      "[1, 2, 0, 49, 48]\n"
     ]
    }
   ],
   "source": [
    "f = list(df['Flow Duration'].value_counts().nlargest(5).index)\n",
    "#f.sort()\n",
    "print(f)\n",
    "# plt.figure(figsize=(6,4))\n",
    "# sns.histplot(df['Source Port'])\n",
    "# plt.yscale('log');"
   ]
  },
  {
   "cell_type": "code",
   "execution_count": null,
   "metadata": {},
   "outputs": [],
   "source": [
    "nums = [1, 2, 0, 49, 48]\n",
    "df['Flow Duration'] = df['Flow Duration'].apply(lambda x: x if x in nums else 100)"
   ]
  },
  {
   "cell_type": "code",
   "execution_count": null,
   "metadata": {},
   "outputs": [
    {
     "data": {
      "image/png": "[encoded data removed]",
      "text/plain": [
       "<Figure size 600x400 with 1 Axes>"
      ]
     },
     "metadata": {},
     "output_type": "display_data"
    }
   ],
   "source": [
    "plt.figure(figsize=(6,4))\n",
    "plt.hist(df['Flow Duration']);"
   ]
  },
  {
   "cell_type": "markdown",
   "metadata": {},
   "source": [
    "### Protocol"
   ]
  },
  {
   "cell_type": "code",
   "execution_count": null,
   "metadata": {},
   "outputs": [
    {
     "data": {
      "text/plain": [
       "Protocol\n",
       "17    99929\n",
       "6        62\n",
       "0         9\n",
       "Name: count, dtype: int64"
      ]
     },
     "execution_count": 373,
     "metadata": {},
     "output_type": "execute_result"
    }
   ],
   "source": [
    "df['Protocol'].value_counts().nlargest(5)#.index)\n",
    "#f.sort()\n",
    "#print(f)\n",
    "# plt.figure(figsize=(6,4))\n",
    "# sns.histplot(df['Source Port'])\n",
    "# plt.yscale('log');"
   ]
  },
  {
   "cell_type": "markdown",
   "metadata": {},
   "source": [
    "### Flow Duration"
   ]
  },
  {
   "cell_type": "code",
   "execution_count": null,
   "metadata": {},
   "outputs": [
    {
     "data": {
      "text/plain": [
       "Flow Duration\n",
       "1      66325\n",
       "2      23516\n",
       "100     6132\n",
       "0       2502\n",
       "49       814\n",
       "Name: count, dtype: int64"
      ]
     },
     "execution_count": 374,
     "metadata": {},
     "output_type": "execute_result"
    }
   ],
   "source": [
    "df['Flow Duration'].value_counts().nlargest(5)"
   ]
  },
  {
   "cell_type": "code",
   "execution_count": null,
   "metadata": {},
   "outputs": [
    {
     "name": "stderr",
     "output_type": "stream",
     "text": [
      "C:\\Users\\Professional\\AppData\\Roaming\\Python\\Python310\\site-packages\\pandas\\core\\arraylike.py:399: RuntimeWarning: divide by zero encountered in log10\n",
      "  result = getattr(ufunc, method)(*inputs, **kwargs)\n"
     ]
    },
    {
     "data": {
      "text/plain": [
       "Flow Duration\n",
       "0.000000    68827\n",
       "0.301030    23516\n",
       "2.000000     6132\n",
       "1.690196      814\n",
       "1.681241      711\n",
       "Name: count, dtype: int64"
      ]
     },
     "execution_count": 375,
     "metadata": {},
     "output_type": "execute_result"
    }
   ],
   "source": [
    "df['Flow Duration'] = np.log10(df['Flow Duration']).replace([np.inf, -np.inf], 0).astype('float32')\n",
    "df['Flow Duration'].value_counts()"
   ]
  },
  {
   "cell_type": "code",
   "execution_count": null,
   "metadata": {},
   "outputs": [
    {
     "name": "stderr",
     "output_type": "stream",
     "text": [
      "C:\\Users\\Professional\\AppData\\Roaming\\Python\\Python310\\site-packages\\pandas\\core\\arraylike.py:399: RuntimeWarning: divide by zero encountered in log10\n",
      "  result = getattr(ufunc, method)(*inputs, **kwargs)\n"
     ]
    },
    {
     "data": {
      "text/plain": [
       "<Axes: xlabel='Unnamed: 0', ylabel='Flow Duration'>"
      ]
     },
     "execution_count": 359,
     "metadata": {},
     "output_type": "execute_result"
    },
    {
     "data": {
      "image/png": "[encoded data removed]",
      "text/plain": [
       "<Figure size 640x480 with 1 Axes>"
      ]
     },
     "metadata": {},
     "output_type": "display_data"
    }
   ],
   "source": [
    "sns.scatterplot(np.log10(df['Flow Duration']).replace([np.inf, -np.inf], 0).astype('float32'))#.plot()"
   ]
  },
  {
   "cell_type": "code",
   "execution_count": null,
   "metadata": {},
   "outputs": [],
   "source": [
    "#df['Flow Duration'] = np.log10(df['Flow Duration']).replace([np.inf, -np.inf], 0).astype('int32')\n",
    "df['Flow Duration'] = np.digitize(df['Flow Duration'], bins=[1, 10, 100, 1000, 1e4, 1e5, 1e6, 1e7])\n",
    "df['Flow Duration'] = df['Flow Duration'].astype('category')\n",
    "#df['Flow Duration']"
   ]
  },
  {
   "cell_type": "code",
   "execution_count": null,
   "metadata": {},
   "outputs": [],
   "source": [
    "# pd.cut(df['Flow Duration'], \n",
    "#        bins=[0, 1, 10, 100, 1000, 10000, 15000, 20000, 25000, 50000, 1e5, 1e6, 1e7],\n",
    "#        labels=False, retbins=True)#.value_counts()"
   ]
  },
  {
   "cell_type": "markdown",
   "metadata": {},
   "source": [
    "### Total Fwd Packets"
   ]
  },
  {
   "cell_type": "code",
   "execution_count": null,
   "metadata": {},
   "outputs": [
    {
     "data": {
      "text/plain": [
       "Unnamed: 0\n",
       "21010    85894\n",
       "20932        2\n",
       "27876        2\n",
       "24270        2\n",
       "5109         2\n",
       "         ...  \n",
       "26444        2\n",
       "24719        2\n",
       "28424        2\n",
       "19748        2\n",
       "18892        2\n",
       "Name: Total Fwd Packets, Length: 100000, dtype: int64"
      ]
     },
     "execution_count": 330,
     "metadata": {},
     "output_type": "execute_result"
    }
   ],
   "source": [
    "df['Total Fwd Packets']"
   ]
  },
  {
   "cell_type": "code",
   "execution_count": null,
   "metadata": {},
   "outputs": [],
   "source": [
    "df['Total Fwd Packets'] = np.digitize(df['Total Fwd Packets'], bins=[100, 1000, 1e4, 1e5, 1e6])\n",
    "df['Total Fwd Packets'] = df['Total Fwd Packets'].astype('category')"
   ]
  },
  {
   "cell_type": "markdown",
   "metadata": {},
   "source": [
    "### 'Total Backward Packets'"
   ]
  },
  {
   "cell_type": "code",
   "execution_count": null,
   "metadata": {},
   "outputs": [
    {
     "data": {
      "text/plain": [
       "Unnamed: 0\n",
       "21010    28\n",
       "20932     0\n",
       "27876     0\n",
       "24270     0\n",
       "5109      0\n",
       "Name: Total Backward Packets, dtype: int64"
      ]
     },
     "execution_count": 332,
     "metadata": {},
     "output_type": "execute_result"
    }
   ],
   "source": [
    "df['Total Backward Packets'].head()"
   ]
  },
  {
   "cell_type": "code",
   "execution_count": null,
   "metadata": {},
   "outputs": [
    {
     "data": {
      "text/plain": [
       "Unnamed: 0\n",
       "21010    2\n",
       "20932    0\n",
       "27876    0\n",
       "24270    0\n",
       "5109     0\n",
       "        ..\n",
       "26444    0\n",
       "24719    0\n",
       "28424    0\n",
       "19748    0\n",
       "18892    0\n",
       "Name: Total Backward Packets, Length: 100000, dtype: int64"
      ]
     },
     "execution_count": 333,
     "metadata": {},
     "output_type": "execute_result"
    }
   ],
   "source": [
    "df['Total Backward Packets'] = np.digitize(df['Total Backward Packets'], bins=[1, 10, 100, 1000, 1e4, 1e5, 1e6, 1e7])\n",
    "df['Total Backward Packets'] #= df['Total Backward Packets'].astype('category')"
   ]
  },
  {
   "cell_type": "markdown",
   "metadata": {},
   "source": [
    "### Total Length of Fwd Packets"
   ]
  },
  {
   "cell_type": "code",
   "execution_count": null,
   "metadata": {},
   "outputs": [
    {
     "data": {
      "text/plain": [
       "Total Length of Fwd Packets\n",
       "2944.0     87776\n",
       "2928.0      4184\n",
       "2848.0      2002\n",
       "2896.0      1985\n",
       "2736.0       965\n",
       "           ...  \n",
       "20608.0        1\n",
       "14720.0        1\n",
       "794.0          1\n",
       "5472.0         1\n",
       "52.0           1\n",
       "Name: count, Length: 82, dtype: int64"
      ]
     },
     "execution_count": 334,
     "metadata": {},
     "output_type": "execute_result"
    }
   ],
   "source": [
    "df['Total Length of Fwd Packets'].value_counts()"
   ]
  },
  {
   "cell_type": "code",
   "execution_count": null,
   "metadata": {},
   "outputs": [
    {
     "name": "stderr",
     "output_type": "stream",
     "text": [
      "C:\\Users\\Professional\\AppData\\Roaming\\Python\\Python310\\site-packages\\pandas\\core\\arraylike.py:399: RuntimeWarning: divide by zero encountered in log10\n",
      "  result = getattr(ufunc, method)(*inputs, **kwargs)\n"
     ]
    },
    {
     "data": {
      "image/png": "[encoded data removed]",
      "text/plain": [
       "<Figure size 600x200 with 1 Axes>"
      ]
     },
     "metadata": {},
     "output_type": "display_data"
    }
   ],
   "source": [
    "df['Total Length of Fwd Packets'] = np.log10(df['Total Length of Fwd Packets']).replace([np.inf, -np.inf], 0).astype(np.float16)\n",
    "\n",
    "plt.figure(figsize=(6,2))\n",
    "sns.boxplot(df['Total Length of Fwd Packets'], orient='h', width=0.6);"
   ]
  },
  {
   "cell_type": "code",
   "execution_count": null,
   "metadata": {},
   "outputs": [
    {
     "name": "stdout",
     "output_type": "stream",
     "text": [
      "<class 'pandas.core.series.Series'>\n",
      "Index: 100000 entries, 21010 to 18892\n",
      "Series name: Total Length of Fwd Packets\n",
      "Non-Null Count   Dtype  \n",
      "--------------   -----  \n",
      "100000 non-null  float16\n",
      "dtypes: float16(1)\n",
      "memory usage: 976.6 KB\n"
     ]
    }
   ],
   "source": [
    "df['Total Length of Fwd Packets'].info()"
   ]
  },
  {
   "cell_type": "markdown",
   "metadata": {},
   "source": [
    "### Total Length of Bwd Packets"
   ]
  },
  {
   "cell_type": "code",
   "execution_count": null,
   "metadata": {},
   "outputs": [
    {
     "data": {
      "text/plain": [
       "<Axes: xlabel='Total Length of Bwd Packets'>"
      ]
     },
     "execution_count": 307,
     "metadata": {},
     "output_type": "execute_result"
    },
    {
     "data": {
      "image/png": "[encoded data removed]",
      "text/plain": [
       "<Figure size 600x400 with 1 Axes>"
      ]
     },
     "metadata": {},
     "output_type": "display_data"
    }
   ],
   "source": [
    "plt.figure(figsize=(6,2))\n",
    "sns.boxplot(df['Total Length of Bwd Packets'], orient='h', width=.6)"
   ]
  },
  {
   "cell_type": "code",
   "execution_count": null,
   "metadata": {},
   "outputs": [
    {
     "data": {
      "text/plain": [
       "Unnamed: 0\n",
       "2        DrDoS_LDAP\n",
       "19008    DrDoS_LDAP\n",
       "23092    DrDoS_LDAP\n",
       "14379    DrDoS_LDAP\n",
       "4        DrDoS_LDAP\n",
       "18       DrDoS_LDAP\n",
       "15       DrDoS_LDAP\n",
       "30302    DrDoS_LDAP\n",
       "Name: Label, dtype: object"
      ]
     },
     "execution_count": 311,
     "metadata": {},
     "output_type": "execute_result"
    }
   ],
   "source": [
    "mask = df['Total Length of Bwd Packets'] != 0\n",
    "df[mask]['Label']"
   ]
  },
  {
   "cell_type": "markdown",
   "metadata": {},
   "source": [
    "All outliers where $Total Length of Bwd Packets \\neq 0$ belong to the attack category and might be replaced."
   ]
  },
  {
   "cell_type": "code",
   "execution_count": null,
   "metadata": {},
   "outputs": [],
   "source": [
    "df['Total Length of Bwd Packets'] = np.where(df['Total Length of Bwd Packets'] !=0, 1, df['Total Length of Bwd Packets'])"
   ]
  },
  {
   "cell_type": "markdown",
   "metadata": {},
   "source": [
    "### Fwd Packet Length Max"
   ]
  },
  {
   "cell_type": "code",
   "execution_count": null,
   "metadata": {},
   "outputs": [
    {
     "data": {
      "text/plain": [
       "count    100000.000000\n",
       "mean       1463.015500\n",
       "std          60.201943\n",
       "min           0.000000\n",
       "25%        1472.000000\n",
       "50%        1472.000000\n",
       "75%        1472.000000\n",
       "max        1472.000000\n",
       "Name: Fwd Packet Length Max, dtype: float64"
      ]
     },
     "execution_count": 312,
     "metadata": {},
     "output_type": "execute_result"
    }
   ],
   "source": [
    "df['Fwd Packet Length Max'].describe()"
   ]
  },
  {
   "cell_type": "code",
   "execution_count": null,
   "metadata": {},
   "outputs": [
    {
     "data": {
      "text/plain": [
       "<Axes: xlabel='Fwd Packet Length Max'>"
      ]
     },
     "execution_count": 315,
     "metadata": {},
     "output_type": "execute_result"
    },
    {
     "data": {
      "image/png": "[encoded data removed]",
      "text/plain": [
       "<Figure size 600x200 with 1 Axes>"
      ]
     },
     "metadata": {},
     "output_type": "display_data"
    }
   ],
   "source": [
    "plt.figure(figsize=(6,2))\n",
    "sns.boxplot(df['Fwd Packet Length Max'], orient='h', width=.6);"
   ]
  },
  {
   "cell_type": "markdown",
   "metadata": {},
   "source": [
    "### Label"
   ]
  },
  {
   "cell_type": "code",
   "execution_count": null,
   "metadata": {},
   "outputs": [
    {
     "name": "stdout",
     "output_type": "stream",
     "text": [
      "['DrDoS_LDAP' 'BENIGN']\n"
     ]
    }
   ],
   "source": [
    "print(df['Label'].unique())\n",
    "df['Label'] = df['Label'].apply(lambda x: 0 if 'BENIGN' in x else 1)"
   ]
  },
  {
   "cell_type": "markdown",
   "metadata": {},
   "source": [
    "## Encoding"
   ]
  },
  {
   "cell_type": "code",
   "execution_count": null,
   "metadata": {},
   "outputs": [],
   "source": [
    "from sklearn.compose import ColumnTransformer\n",
    "from sklearn.pipeline import Pipeline\n",
    "from sklearn.impute import SimpleImputer\n",
    "from sklearn.preprocessing import StandardScaler, OneHotEncoder\n",
    "from sklearn.linear_model import LogisticRegression\n",
    "from sklearn.feature_selection import SelectKBest, f_regression\n",
    "# Define preprocessing for numeric columns (scale them)\n",
    "numeric_features = [6,7,8,9]\n",
    "\n",
    "numeric_transformer = Pipeline(steps=[\n",
    "    ('scaler', StandardScaler())])\n",
    "\n",
    "# Define preprocessing for categorical features (encode them)\n",
    "categorical_features = [0,1,2,3,4,5]\n",
    "categorical_transformer = Pipeline(steps=[\n",
    "    ('onehot', OneHotEncoder(handle_unknown='ignore'))])\n",
    "\n",
    "# Combine preprocessing steps\n",
    "preprocessor = ColumnTransformer(\n",
    "    transformers=[\n",
    "        ('num', numeric_transformer, numeric_features),\n",
    "        #('FeatureSelection', SelectKBest(f_regression, k=5)),\n",
    "        ('cat', categorical_transformer, categorical_features)])\n",
    "\n",
    "# Create preprocessing and training pipeline\n",
    "pipeline = Pipeline(steps=[('preprocessor', preprocessor),\n",
    "                           ('regressor', LogisticRegression())])\n",
    "\n"
   ]
  },
  {
   "cell_type": "code",
   "execution_count": null,
   "metadata": {},
   "outputs": [],
   "source": [
    "#!pip install joblib\n",
    "import joblib\n",
    "joblib.dump(pipeline, 'pipeline.pkl')"
   ]
  },
  {
   "cell_type": "code",
   "execution_count": null,
   "metadata": {},
   "outputs": [],
   "source": [
    "nums = [1, 2, 0, 49, 48]\n",
    "df['Flow Duration'] = df['Flow Duration'].apply(lambda x: x if x in nums else 100)"
   ]
  },
  {
   "cell_type": "code",
   "execution_count": null,
   "metadata": {},
   "outputs": [
    {
     "data": {
      "image/png": "[encoded data removed]",
      "text/plain": [
       "<Figure size 600x400 with 1 Axes>"
      ]
     },
     "metadata": {},
     "output_type": "display_data"
    }
   ],
   "source": [
    "plt.figure(figsize=(6,4))\n",
    "plt.hist(df['Flow Duration']);"
   ]
  },
  {
   "cell_type": "code",
   "execution_count": null,
   "metadata": {},
   "outputs": [],
   "source": [
    "df1.rename(columns={' Source IP':' Source IP'})"
   ]
  },
  {
   "cell_type": "code",
   "execution_count": null,
   "metadata": {},
   "outputs": [
    {
     "data": {
      "text/plain": [
       "Index(['Unnamed: 0', 'Flow ID', ' Source IP', ' Source Port',\n",
       "       ' Destination IP', ' Destination Port', ' Protocol', ' Timestamp',\n",
       "       ' Flow Duration', ' Total Fwd Packets', ' Total Backward Packets',\n",
       "       'Total Length of Fwd Packets', ' Total Length of Bwd Packets',\n",
       "       ' Fwd Packet Length Max', ' Fwd Packet Length Min',\n",
       "       ' Fwd Packet Length Mean', ' Fwd Packet Length Std',\n",
       "       'Bwd Packet Length Max', ' Bwd Packet Length Min',\n",
       "       ' Bwd Packet Length Mean', ' Bwd Packet Length Std', 'Flow Bytes/s',\n",
       "       ' Flow Packets/s', ' Flow IAT Mean', ' Flow IAT Std', ' Flow IAT Max',\n",
       "       ' Flow IAT Min', 'Fwd IAT Total', ' Fwd IAT Mean', ' Fwd IAT Std',\n",
       "       ' Fwd IAT Max', ' Fwd IAT Min', 'Bwd IAT Total', ' Bwd IAT Mean',\n",
       "       ' Bwd IAT Std', ' Bwd IAT Max', ' Bwd IAT Min', 'Fwd PSH Flags',\n",
       "       ' Bwd PSH Flags', ' Fwd URG Flags', ' Bwd URG Flags',\n",
       "       ' Fwd Header Length', ' Bwd Header Length', 'Fwd Packets/s',\n",
       "       ' Bwd Packets/s', ' Min Packet Length', ' Max Packet Length',\n",
       "       ' Packet Length Mean', ' Packet Length Std', ' Packet Length Variance',\n",
       "       'FIN Flag Count', ' SYN Flag Count', ' RST Flag Count',\n",
       "       ' PSH Flag Count', ' ACK Flag Count', ' URG Flag Count',\n",
       "       ' CWE Flag Count', ' ECE Flag Count', ' Down/Up Ratio',\n",
       "       ' Average Packet Size', ' Avg Fwd Segment Size',\n",
       "       ' Avg Bwd Segment Size', ' Fwd Header Length.1', 'Fwd Avg Bytes/Bulk',\n",
       "       ' Fwd Avg Packets/Bulk', ' Fwd Avg Bulk Rate', ' Bwd Avg Bytes/Bulk',\n",
       "       ' Bwd Avg Packets/Bulk', 'Bwd Avg Bulk Rate', 'Subflow Fwd Packets',\n",
       "       ' Subflow Fwd Bytes', ' Subflow Bwd Packets', ' Subflow Bwd Bytes',\n",
       "       'Init_Win_bytes_forward', ' Init_Win_bytes_backward',\n",
       "       ' act_data_pkt_fwd', ' min_seg_size_forward', 'Active Mean',\n",
       "       ' Active Std', ' Active Max', ' Active Min', 'Idle Mean', ' Idle Std',\n",
       "       ' Idle Max', ' Idle Min', 'SimillarHTTP', ' Inbound', ' Label'],\n",
       "      dtype='object')"
      ]
     },
     "execution_count": 45,
     "metadata": {},
     "output_type": "execute_result"
    }
   ],
   "source": [
    "\n",
    "for i in df1.columns:"
   ]
  },
  {
   "cell_type": "code",
   "execution_count": null,
   "metadata": {},
   "outputs": [
    {
     "data": {
      "text/plain": [
       " Label\n",
       "Portmap    95273\n",
       "BENIGN      4727\n",
       "Name: count, dtype: int64"
      ]
     },
     "execution_count": 40,
     "metadata": {},
     "output_type": "execute_result"
    }
   ],
   "source": [
    "df1[' Label'].value_counts()"
   ]
  },
  {
   "cell_type": "code",
   "execution_count": null,
   "metadata": {},
   "outputs": [
    {
     "data": {
      "text/plain": [
       "'2018-11-03 09:18:16.964447'"
      ]
     },
     "execution_count": 43,
     "metadata": {},
     "output_type": "execute_result"
    }
   ],
   "source": [
    "df1[' Timestamp'].min()"
   ]
  },
  {
   "cell_type": "code",
   "execution_count": null,
   "metadata": {},
   "outputs": [
    {
     "data": {
      "text/plain": [
       " Source Port\n",
       "900      49151\n",
       "758        101\n",
       "596        101\n",
       "726        101\n",
       "566        101\n",
       "         ...  \n",
       "65410        1\n",
       "7692         1\n",
       "6380         1\n",
       "50892        1\n",
       "55289        1\n",
       "Name: count, Length: 572, dtype: int64"
      ]
     },
     "execution_count": 28,
     "metadata": {},
     "output_type": "execute_result"
    }
   ],
   "source": [
    "df[' Source Port'].value_counts()"
   ]
  },
  {
   "cell_type": "code",
   "execution_count": null,
   "metadata": {},
   "outputs": [
    {
     "data": {
      "text/plain": [
       " Label\n",
       "DrDoS_LDAP    99970\n",
       "BENIGN           30\n",
       "Name: count, dtype: int64"
      ]
     },
     "execution_count": 26,
     "metadata": {},
     "output_type": "execute_result"
    }
   ],
   "source": [
    "df[' Label'].value_counts()"
   ]
  },
  {
   "cell_type": "markdown",
   "metadata": {},
   "source": [
    "Labels contain either *Benign*, which denote normal packages, and an attack class label"
   ]
  },
  {
   "cell_type": "code",
   "execution_count": null,
   "metadata": {},
   "outputs": [
    {
     "name": "stdout",
     "output_type": "stream",
     "text": [
      "<class 'pandas.core.frame.DataFrame'>\n",
      "Index: 1000000 entries, 21010 to 12696\n",
      "Data columns (total 87 columns):\n",
      " #   Column                        Non-Null Count    Dtype  \n",
      "---  ------                        --------------    -----  \n",
      " 0   Flow ID                       1000000 non-null  object \n",
      " 1    Source IP                    1000000 non-null  object \n",
      " 2    Source Port                  1000000 non-null  int64  \n",
      " 3    Destination IP               1000000 non-null  object \n",
      " 4    Destination Port             1000000 non-null  int64  \n",
      " 5    Protocol                     1000000 non-null  int64  \n",
      " 6    Timestamp                    1000000 non-null  object \n",
      " 7    Flow Duration                1000000 non-null  int64  \n",
      " 8    Total Fwd Packets            1000000 non-null  int64  \n",
      " 9    Total Backward Packets       1000000 non-null  int64  \n",
      " 10  Total Length of Fwd Packets   1000000 non-null  float64\n",
      " 11   Total Length of Bwd Packets  1000000 non-null  float64\n",
      " 12   Fwd Packet Length Max        1000000 non-null  float64\n",
      " 13   Fwd Packet Length Min        1000000 non-null  float64\n",
      " 14   Fwd Packet Length Mean       1000000 non-null  float64\n",
      " 15   Fwd Packet Length Std        1000000 non-null  float64\n",
      " 16  Bwd Packet Length Max         1000000 non-null  float64\n",
      " 17   Bwd Packet Length Min        1000000 non-null  float64\n",
      " 18   Bwd Packet Length Mean       1000000 non-null  float64\n",
      " 19   Bwd Packet Length Std        1000000 non-null  float64\n",
      " 20  Flow Bytes/s                  999996 non-null   float64\n",
      " 21   Flow Packets/s               1000000 non-null  float64\n",
      " 22   Flow IAT Mean                1000000 non-null  float64\n",
      " 23   Flow IAT Std                 1000000 non-null  float64\n",
      " 24   Flow IAT Max                 1000000 non-null  float64\n",
      " 25   Flow IAT Min                 1000000 non-null  float64\n",
      " 26  Fwd IAT Total                 1000000 non-null  float64\n",
      " 27   Fwd IAT Mean                 1000000 non-null  float64\n",
      " 28   Fwd IAT Std                  1000000 non-null  float64\n",
      " 29   Fwd IAT Max                  1000000 non-null  float64\n",
      " 30   Fwd IAT Min                  1000000 non-null  float64\n",
      " 31  Bwd IAT Total                 1000000 non-null  float64\n",
      " 32   Bwd IAT Mean                 1000000 non-null  float64\n",
      " 33   Bwd IAT Std                  1000000 non-null  float64\n",
      " 34   Bwd IAT Max                  1000000 non-null  float64\n",
      " 35   Bwd IAT Min                  1000000 non-null  float64\n",
      " 36  Fwd PSH Flags                 1000000 non-null  int64  \n",
      " 37   Bwd PSH Flags                1000000 non-null  int64  \n",
      " 38   Fwd URG Flags                1000000 non-null  int64  \n",
      " 39   Bwd URG Flags                1000000 non-null  int64  \n",
      " 40   Fwd Header Length            1000000 non-null  int64  \n",
      " 41   Bwd Header Length            1000000 non-null  int64  \n",
      " 42  Fwd Packets/s                 1000000 non-null  float64\n",
      " 43   Bwd Packets/s                1000000 non-null  float64\n",
      " 44   Min Packet Length            1000000 non-null  float64\n",
      " 45   Max Packet Length            1000000 non-null  float64\n",
      " 46   Packet Length Mean           1000000 non-null  float64\n",
      " 47   Packet Length Std            1000000 non-null  float64\n",
      " 48   Packet Length Variance       1000000 non-null  float64\n",
      " 49  FIN Flag Count                1000000 non-null  int64  \n",
      " 50   SYN Flag Count               1000000 non-null  int64  \n",
      " 51   RST Flag Count               1000000 non-null  int64  \n",
      " 52   PSH Flag Count               1000000 non-null  int64  \n",
      " 53   ACK Flag Count               1000000 non-null  int64  \n",
      " 54   URG Flag Count               1000000 non-null  int64  \n",
      " 55   CWE Flag Count               1000000 non-null  int64  \n",
      " 56   ECE Flag Count               1000000 non-null  int64  \n",
      " 57   Down/Up Ratio                1000000 non-null  float64\n",
      " 58   Average Packet Size          1000000 non-null  float64\n",
      " 59   Avg Fwd Segment Size         1000000 non-null  float64\n",
      " 60   Avg Bwd Segment Size         1000000 non-null  float64\n",
      " 61   Fwd Header Length.1          1000000 non-null  int64  \n",
      " 62  Fwd Avg Bytes/Bulk            1000000 non-null  int64  \n",
      " 63   Fwd Avg Packets/Bulk         1000000 non-null  int64  \n",
      " 64   Fwd Avg Bulk Rate            1000000 non-null  int64  \n",
      " 65   Bwd Avg Bytes/Bulk           1000000 non-null  int64  \n",
      " 66   Bwd Avg Packets/Bulk         1000000 non-null  int64  \n",
      " 67  Bwd Avg Bulk Rate             1000000 non-null  int64  \n",
      " 68  Subflow Fwd Packets           1000000 non-null  int64  \n",
      " 69   Subflow Fwd Bytes            1000000 non-null  int64  \n",
      " 70   Subflow Bwd Packets          1000000 non-null  int64  \n",
      " 71   Subflow Bwd Bytes            1000000 non-null  int64  \n",
      " 72  Init_Win_bytes_forward        1000000 non-null  int64  \n",
      " 73   Init_Win_bytes_backward      1000000 non-null  int64  \n",
      " 74   act_data_pkt_fwd             1000000 non-null  int64  \n",
      " 75   min_seg_size_forward         1000000 non-null  int64  \n",
      " 76  Active Mean                   1000000 non-null  float64\n",
      " 77   Active Std                   1000000 non-null  float64\n",
      " 78   Active Max                   1000000 non-null  float64\n",
      " 79   Active Min                   1000000 non-null  float64\n",
      " 80  Idle Mean                     1000000 non-null  float64\n",
      " 81   Idle Std                     1000000 non-null  float64\n",
      " 82   Idle Max                     1000000 non-null  float64\n",
      " 83   Idle Min                     1000000 non-null  float64\n",
      " 84  SimillarHTTP                  1000000 non-null  object \n",
      " 85   Inbound                      1000000 non-null  int64  \n",
      " 86   Label                        1000000 non-null  object \n",
      "dtypes: float64(45), int64(36), object(6)\n",
      "memory usage: 671.4+ MB\n"
     ]
    }
   ],
   "source": [
    "df.info()"
   ]
  },
  {
   "cell_type": "code",
   "execution_count": null,
   "metadata": {},
   "outputs": [
    {
     "name": "stdout",
     "output_type": "stream",
     "text": [
      "['Flow ID', 'Source IP', 'Source Port', 'Destination IP', 'Destination Port', 'Protocol', 'Timestamp', 'Flow Duration', 'Total Fwd Packets', 'Total Backward Packets', 'Total Length of Fwd Packets', 'Total Length of Bwd Packets', 'Fwd Packet Length Max', 'Fwd Packet Length Min', 'Fwd Packet Length Mean', 'Fwd Packet Length Std', 'Bwd Packet Length Max', 'Bwd Packet Length Min', 'Bwd Packet Length Mean', 'Bwd Packet Length Std', 'Flow Bytes/s', 'Flow Packets/s', 'Flow IAT Mean', 'Flow IAT Std', 'Flow IAT Max', 'Flow IAT Min', 'Fwd IAT Total', 'Fwd IAT Mean', 'Fwd IAT Std', 'Fwd IAT Max', 'Fwd IAT Min', 'Bwd IAT Total', 'Bwd IAT Mean', 'Bwd IAT Std', 'Bwd IAT Max', 'Bwd IAT Min', 'Fwd PSH Flags', 'Bwd PSH Flags', 'Fwd URG Flags', 'Bwd URG Flags', 'Fwd Header Length', 'Bwd Header Length', 'Fwd Packets/s', 'Bwd Packets/s', 'Min Packet Length', 'Max Packet Length', 'Packet Length Mean', 'Packet Length Std', 'Packet Length Variance', 'FIN Flag Count', 'SYN Flag Count', 'RST Flag Count', 'PSH Flag Count', 'ACK Flag Count', 'URG Flag Count', 'CWE Flag Count', 'ECE Flag Count', 'Down/Up Ratio', 'Average Packet Size', 'Avg Fwd Segment Size', 'Avg Bwd Segment Size', 'Fwd Header Length.1', 'Fwd Avg Bytes/Bulk', 'Fwd Avg Packets/Bulk', 'Fwd Avg Bulk Rate', 'Bwd Avg Bytes/Bulk', 'Bwd Avg Packets/Bulk', 'Bwd Avg Bulk Rate', 'Subflow Fwd Packets', 'Subflow Fwd Bytes', 'Subflow Bwd Packets', 'Subflow Bwd Bytes', 'Init_Win_bytes_forward', 'Init_Win_bytes_backward', 'act_data_pkt_fwd', 'min_seg_size_forward', 'Active Mean', 'Active Std', 'Active Max', 'Active Min', 'Idle Mean', 'Idle Std', 'Idle Max', 'Idle Min', 'SimillarHTTP', 'Inbound', 'Label']\n"
     ]
    }
   ],
   "source": [
    "# import re\n",
    "print([re.sub('^\\s+|\\s+$/g', \"\", word) for word in list(df.columns)])"
   ]
  },
  {
   "cell_type": "code",
   "execution_count": null,
   "metadata": {},
   "outputs": [
    {
     "name": "stdout",
     "output_type": "stream",
     "text": [
      "['Flow ID', ' Source IP', ' Source Port', ' Destination IP', ' Destination Port', ' Protocol', ' Timestamp', ' Flow Duration', ' Total Fwd Packets', ' Total Backward Packets', 'Total Length of Fwd Packets', ' Total Length of Bwd Packets', ' Fwd Packet Length Max', ' Fwd Packet Length Min', ' Fwd Packet Length Mean', ' Fwd Packet Length Std', 'Bwd Packet Length Max', ' Bwd Packet Length Min', ' Bwd Packet Length Mean', ' Bwd Packet Length Std', 'Flow Bytes/s', ' Flow Packets/s', ' Flow IAT Mean', ' Flow IAT Std', ' Flow IAT Max', ' Flow IAT Min', 'Fwd IAT Total', ' Fwd IAT Mean', ' Fwd IAT Std', ' Fwd IAT Max', ' Fwd IAT Min', 'Bwd IAT Total', ' Bwd IAT Mean', ' Bwd IAT Std', ' Bwd IAT Max', ' Bwd IAT Min', 'Fwd PSH Flags', ' Bwd PSH Flags', ' Fwd URG Flags', ' Bwd URG Flags', ' Fwd Header Length', ' Bwd Header Length', 'Fwd Packets/s', ' Bwd Packets/s', ' Min Packet Length', ' Max Packet Length', ' Packet Length Mean', ' Packet Length Std', ' Packet Length Variance', 'FIN Flag Count', ' SYN Flag Count', ' RST Flag Count', ' PSH Flag Count', ' ACK Flag Count', ' URG Flag Count', ' CWE Flag Count', ' ECE Flag Count', ' Down/Up Ratio', ' Average Packet Size', ' Avg Fwd Segment Size', ' Avg Bwd Segment Size', ' Fwd Header Length.1', 'Fwd Avg Bytes/Bulk', ' Fwd Avg Packets/Bulk', ' Fwd Avg Bulk Rate', ' Bwd Avg Bytes/Bulk', ' Bwd Avg Packets/Bulk', 'Bwd Avg Bulk Rate', 'Subflow Fwd Packets', ' Subflow Fwd Bytes', ' Subflow Bwd Packets', ' Subflow Bwd Bytes', 'Init_Win_bytes_forward', ' Init_Win_bytes_backward', ' act_data_pkt_fwd', ' min_seg_size_forward', 'Active Mean', ' Active Std', ' Active Max', ' Active Min', 'Idle Mean', ' Idle Std', ' Idle Max', ' Idle Min', 'SimillarHTTP', ' Inbound', ' Label']\n"
     ]
    }
   ],
   "source": [
    "print(list(df.columns))"
   ]
  },
  {
   "cell_type": "code",
   "execution_count": null,
   "metadata": {},
   "outputs": [],
   "source": [
    "true_col = ['Flow ID', 'Source IP', 'Source Port', 'Destination IP', 'Destination Port', 'Protocol', \n",
    " 'Timestamp', 'Flow Duration', 'Total Fwd Packets', 'Total Backward Packets', \n",
    " 'Total Length of Fwd Packets', 'Total Length of Bwd Packets', 'Fwd Packet Length Max', \n",
    " 'Fwd Packet Length Min', 'Fwd Packet Length Mean', 'Fwd Packet Length Std', \n",
    " 'Bwd Packet Length Max', 'Bwd Packet Length Min', 'Bwd Packet Length Mean', \n",
    " 'Bwd Packet Length Std', 'Flow Bytes/s', 'Flow Packets/s', 'Flow IAT Mean', \n",
    " 'Flow IAT Std', 'Flow IAT Max', 'Flow IAT Min', 'Fwd IAT Total', 'Fwd IAT Mean', \n",
    " 'Fwd IAT Std', 'Fwd IAT Max', 'Fwd IAT Min', 'Bwd IAT Total', 'Bwd IAT Mean', \n",
    " 'Bwd IAT Std', 'Bwd IAT Max', 'Bwd IAT Min', 'Fwd PSH Flags', 'Bwd PSH Flags', \n",
    " 'Fwd URG Flags', 'Bwd URG Flags', 'Fwd Header Length', 'Bwd Header Length', \n",
    " 'Fwd Packets/s', 'Bwd Packets/s', 'Min Packet Length', 'Max Packet Length', \n",
    " 'Packet Length Mean', 'Packet Length Std', 'Packet Length Variance', 'FIN Flag Count', \n",
    " 'SYN Flag Count', 'RST Flag Count', 'PSH Flag Count', 'ACK Flag Count', 'URG Flag Count', \n",
    " 'CWE Flag Count', 'ECE Flag Count', 'Down/Up Ratio', 'Average Packet Size', \n",
    " 'Avg Fwd Segment Size', 'Avg Bwd Segment Size', 'Fwd Header Length.1', \n",
    " 'Fwd Avg Bytes/Bulk', 'Fwd Avg Packets/Bulk', 'Fwd Avg Bulk Rate', 'Bwd Avg Bytes/Bulk', \n",
    " 'Bwd Avg Packets/Bulk', 'Bwd Avg Bulk Rate', 'Subflow Fwd Packets', 'Subflow Fwd Bytes', \n",
    " 'Subflow Bwd Packets', 'Subflow Bwd Bytes', 'Init_Win_bytes_forward', 'Init_Win_bytes_backward', \n",
    " 'act_data_pkt_fwd', 'min_seg_size_forward', 'Active Mean', 'Active Std', 'Active Max', \n",
    " 'Active Min', 'Idle Mean', 'Idle Std', 'Idle Max', 'Idle Min', 'SimillarHTTP', 'Inbound', 'Label']"
   ]
  },
  {
   "cell_type": "code",
   "execution_count": null,
   "metadata": {},
   "outputs": [],
   "source": [
    "text_col = ['Flow Byte/s','Flow Packets/s','Flow IAT Mean','Flow IAT Std',\n",
    "    'Flow IAT Max','Flow IAT Min','Fwd IAT Min','Fwd IAT Max','Fwd IAT Mean','Fwd IAT Std ',\n",
    "    'Fwd IAT Total ','Bwd IAT Min ','Bwd IAT Max ','Bwd IAT Mean','Bwd IAT Std',\n",
    "    'Bwd IAT Total','Fwd PSH flag', 'Bwd PSH Flag','Fwd URG Flag','Bwd URG Flag',\n",
    "    'Fwd Header Length ','Bwd Header Length ','FWD Packets/s','Bwd Packets/s',\n",
    "    'Min Packet Length','Max Packet Length','Packet Length Mean','Packet Length Std ',\n",
    "    'Packet Length Variance ','FIN Flag Count ','SYN Flag Count ','RST Flag Count ',\n",
    "    'PSH Flag Count ','ACK Flag Count ','URG Flag Count ','CWR Flag Count ',\n",
    "    'ECE Flag Count ','down/Up Ratio','Average Packet Size','Avg Fwd Segment Size',\n",
    "    'AVG Bwd Segment Size','Fwd Header Length ','Fwd Avg Bytes/Bulk ',\n",
    "    'Fwd AVG Packet/Bulk','Fwd AVG Bulk Rate','Bwd Avg Bytes/Bulk ','Bwd AVG Packet/Bulk',\n",
    "    'Bwd AVG Bulk Rate','Subflow Fwd Packets ','Subflow Fwd Bytes ','Subflow Bwd Packets ',\n",
    "    'Subflow Bwd Bytes ','Init_Win_bytes_forward ','Init_Win_bytes_backward ',\n",
    "    'Act_data_pkt_forward ','min_seg_size_forward ','Active Min',\n",
    "    'Active Mean','Active Max','Active Std','Idle Min','Idle Mean','Idle Max','Idle Std']\n",
    "\n",
    "text_col = [re.sub('$\\s+|\\s+$/g', \"\", word) for word in text_col]\n"
   ]
  },
  {
   "cell_type": "code",
   "execution_count": null,
   "metadata": {},
   "outputs": [
    {
     "data": {
      "text/plain": [
       "{'Active Max',\n",
       " 'Active Mean',\n",
       " 'Active Min',\n",
       " 'Active Std',\n",
       " 'Average Packet Size',\n",
       " 'Avg Fwd Segment Size',\n",
       " 'Bwd IAT Mean',\n",
       " 'Bwd IAT Std',\n",
       " 'Bwd IAT Total',\n",
       " 'Bwd Packets/s',\n",
       " 'Flow IAT Max',\n",
       " 'Flow IAT Mean',\n",
       " 'Flow IAT Min',\n",
       " 'Flow IAT Std',\n",
       " 'Flow Packets/s',\n",
       " 'Fwd IAT Max',\n",
       " 'Fwd IAT Mean',\n",
       " 'Fwd IAT Min',\n",
       " 'Idle Max',\n",
       " 'Idle Mean',\n",
       " 'Idle Min',\n",
       " 'Idle Std',\n",
       " 'Max Packet Length',\n",
       " 'Min Packet Length',\n",
       " 'Packet Length Mean'}"
      ]
     },
     "execution_count": 32,
     "metadata": {},
     "output_type": "execute_result"
    }
   ],
   "source": [
    "set(text_col) & set(true_col)"
   ]
  },
  {
   "cell_type": "code",
   "execution_count": null,
   "metadata": {},
   "outputs": [],
   "source": []
  },
  {
   "cell_type": "code",
   "execution_count": null,
   "metadata": {},
   "outputs": [
    {
     "data": {
      "text/plain": [
       "24.416999999999998"
      ]
     },
     "execution_count": 1,
     "metadata": {},
     "output_type": "execute_result"
    }
   ],
   "source": [
    "2.2 + 0.876 + 7.3 + 8.8 + 2.9+ 0.441 + 1.9"
   ]
  },
  {
   "cell_type": "code",
   "execution_count": null,
   "metadata": {},
   "outputs": [
    {
     "data": {
      "text/plain": [
       "770"
      ]
     },
     "execution_count": 2,
     "metadata": {},
     "output_type": "execute_result"
    }
   ],
   "source": [
    "70+48+359+37+256"
   ]
  },
  {
   "cell_type": "code",
   "execution_count": null,
   "metadata": {},
   "outputs": [
    {
     "data": {
      "text/plain": [
       "48.43333333333333"
      ]
     },
     "execution_count": 9,
     "metadata": {},
     "output_type": "execute_result"
    }
   ],
   "source": [
    "2906/60"
   ]
  },
  {
   "cell_type": "code",
   "execution_count": null,
   "metadata": {},
   "outputs": [
    {
     "name": "stdout",
     "output_type": "stream",
     "text": [
      "['DNS', 'LDAP', 'MSSQL', 'NTP', 'NetBIOS', 'PortMap', 'SNMP', 'SSDP', 'SYN', 'TFTP', 'UDP', 'UDP-Lag', 'WebDDoS (ARME)']\n"
     ]
    }
   ],
   "source": [
    "attacks = {'PortMap','NetBIOS','LDAP','MSSQL','UDP','UDP-Lag','SYN','NTP','DNS','LDAP',\n",
    "'MSSQL','NetBIOS','SNMP','SSDP','UDP','UDP-Lag','WebDDoS (ARME)','SYN','TFTP'}\n",
    "attacks = list(attacks)\n",
    "print(sorted(attacks))"
   ]
  },
  {
   "cell_type": "code",
   "execution_count": null,
   "metadata": {},
   "outputs": [
    {
     "ename": "ModuleNotFoundError",
     "evalue": "No module named 'chardet'",
     "output_type": "error",
     "traceback": [
      "\u001b[1;31m---------------------------------------------------------------------------\u001b[0m",
      "\u001b[1;31mModuleNotFoundError\u001b[0m                       Traceback (most recent call last)",
      "Cell \u001b[1;32mIn[21], line 1\u001b[0m\n\u001b[1;32m----> 1\u001b[0m \u001b[38;5;28;01mimport\u001b[39;00m \u001b[38;5;21;01mchardet\u001b[39;00m \n",
      "\u001b[1;31mModuleNotFoundError\u001b[0m: No module named 'chardet'"
     ]
    }
   ],
   "source": []
  },
  {
   "cell_type": "code",
   "execution_count": null,
   "metadata": {},
   "outputs": [
    {
     "name": "stdout",
     "output_type": "stream",
     "text": [
      "['01-12/', '01-12/UDPLag.csv', '01-12/TFTP.csv', '01-12/Syn.csv', '01-12/DrDoS_UDP.csv', '01-12/DrDoS_SSDP.csv', '01-12/DrDoS_SNMP.csv', '01-12/DrDoS_NTP.csv', '01-12/DrDoS_NetBIOS.csv', '01-12/DrDoS_MSSQL.csv', '01-12/DrDoS_LDAP.csv', '01-12/DrDoS_DNS.csv']\n"
     ]
    },
    {
     "data": {
      "text/html": [
       "<div>\n",
       "<style scoped>\n",
       "    .dataframe tbody tr th:only-of-type {\n",
       "        vertical-align: middle;\n",
       "    }\n",
       "\n",
       "    .dataframe tbody tr th {\n",
       "        vertical-align: top;\n",
       "    }\n",
       "\n",
       "    .dataframe thead th {\n",
       "        text-align: right;\n",
       "    }\n",
       "</style>\n",
       "<table border=\"1\" class=\"dataframe\">\n",
       "  <thead>\n",
       "    <tr style=\"text-align: right;\">\n",
       "      <th></th>\n",
       "      <th>Flow ID</th>\n",
       "      <th>Source IP</th>\n",
       "      <th>Source Port</th>\n",
       "      <th>Destination IP</th>\n",
       "      <th>Destination Port</th>\n",
       "      <th>Protocol</th>\n",
       "      <th>Timestamp</th>\n",
       "      <th>Flow Duration</th>\n",
       "      <th>Total Fwd Packets</th>\n",
       "      <th>Total Backward Packets</th>\n",
       "      <th>...</th>\n",
       "      <th>Active Std</th>\n",
       "      <th>Active Max</th>\n",
       "      <th>Active Min</th>\n",
       "      <th>Idle Mean</th>\n",
       "      <th>Idle Std</th>\n",
       "      <th>Idle Max</th>\n",
       "      <th>Idle Min</th>\n",
       "      <th>SimillarHTTP</th>\n",
       "      <th>Inbound</th>\n",
       "      <th>Label</th>\n",
       "    </tr>\n",
       "    <tr>\n",
       "      <th>Unnamed: 0</th>\n",
       "      <th></th>\n",
       "      <th></th>\n",
       "      <th></th>\n",
       "      <th></th>\n",
       "      <th></th>\n",
       "      <th></th>\n",
       "      <th></th>\n",
       "      <th></th>\n",
       "      <th></th>\n",
       "      <th></th>\n",
       "      <th></th>\n",
       "      <th></th>\n",
       "      <th></th>\n",
       "      <th></th>\n",
       "      <th></th>\n",
       "      <th></th>\n",
       "      <th></th>\n",
       "      <th></th>\n",
       "      <th></th>\n",
       "      <th></th>\n",
       "      <th></th>\n",
       "    </tr>\n",
       "  </thead>\n",
       "  <tbody>\n",
       "    <tr>\n",
       "      <th>21010</th>\n",
       "      <td>172.16.0.5-192.168.50.1-0-0-0</td>\n",
       "      <td>172.16.0.5</td>\n",
       "      <td>0</td>\n",
       "      <td>192.168.50.1</td>\n",
       "      <td>0</td>\n",
       "      <td>0</td>\n",
       "      <td>2018-12-01 11:22:40.254769</td>\n",
       "      <td>9141643</td>\n",
       "      <td>85894</td>\n",
       "      <td>28</td>\n",
       "      <td>...</td>\n",
       "      <td>0.0</td>\n",
       "      <td>0.0</td>\n",
       "      <td>0.0</td>\n",
       "      <td>0.0</td>\n",
       "      <td>0.0</td>\n",
       "      <td>0.0</td>\n",
       "      <td>0.0</td>\n",
       "      <td>0</td>\n",
       "      <td>1</td>\n",
       "      <td>DrDoS_LDAP</td>\n",
       "    </tr>\n",
       "    <tr>\n",
       "      <th>20932</th>\n",
       "      <td>172.16.0.5-192.168.50.1-900-1808-17</td>\n",
       "      <td>172.16.0.5</td>\n",
       "      <td>900</td>\n",
       "      <td>192.168.50.1</td>\n",
       "      <td>1808</td>\n",
       "      <td>17</td>\n",
       "      <td>2018-12-01 11:22:40.255361</td>\n",
       "      <td>1</td>\n",
       "      <td>2</td>\n",
       "      <td>0</td>\n",
       "      <td>...</td>\n",
       "      <td>0.0</td>\n",
       "      <td>0.0</td>\n",
       "      <td>0.0</td>\n",
       "      <td>0.0</td>\n",
       "      <td>0.0</td>\n",
       "      <td>0.0</td>\n",
       "      <td>0.0</td>\n",
       "      <td>0</td>\n",
       "      <td>1</td>\n",
       "      <td>DrDoS_LDAP</td>\n",
       "    </tr>\n",
       "    <tr>\n",
       "      <th>27876</th>\n",
       "      <td>172.16.0.5-192.168.50.1-900-58766-17</td>\n",
       "      <td>172.16.0.5</td>\n",
       "      <td>900</td>\n",
       "      <td>192.168.50.1</td>\n",
       "      <td>58766</td>\n",
       "      <td>17</td>\n",
       "      <td>2018-12-01 11:22:40.255568</td>\n",
       "      <td>2</td>\n",
       "      <td>2</td>\n",
       "      <td>0</td>\n",
       "      <td>...</td>\n",
       "      <td>0.0</td>\n",
       "      <td>0.0</td>\n",
       "      <td>0.0</td>\n",
       "      <td>0.0</td>\n",
       "      <td>0.0</td>\n",
       "      <td>0.0</td>\n",
       "      <td>0.0</td>\n",
       "      <td>0</td>\n",
       "      <td>1</td>\n",
       "      <td>DrDoS_LDAP</td>\n",
       "    </tr>\n",
       "    <tr>\n",
       "      <th>24270</th>\n",
       "      <td>172.16.0.5-192.168.50.1-900-35228-17</td>\n",
       "      <td>172.16.0.5</td>\n",
       "      <td>900</td>\n",
       "      <td>192.168.50.1</td>\n",
       "      <td>35228</td>\n",
       "      <td>17</td>\n",
       "      <td>2018-12-01 11:22:40.256113</td>\n",
       "      <td>1</td>\n",
       "      <td>2</td>\n",
       "      <td>0</td>\n",
       "      <td>...</td>\n",
       "      <td>0.0</td>\n",
       "      <td>0.0</td>\n",
       "      <td>0.0</td>\n",
       "      <td>0.0</td>\n",
       "      <td>0.0</td>\n",
       "      <td>0.0</td>\n",
       "      <td>0.0</td>\n",
       "      <td>0</td>\n",
       "      <td>1</td>\n",
       "      <td>DrDoS_LDAP</td>\n",
       "    </tr>\n",
       "    <tr>\n",
       "      <th>5109</th>\n",
       "      <td>172.16.0.5-192.168.50.1-900-44969-17</td>\n",
       "      <td>172.16.0.5</td>\n",
       "      <td>900</td>\n",
       "      <td>192.168.50.1</td>\n",
       "      <td>44969</td>\n",
       "      <td>17</td>\n",
       "      <td>2018-12-01 11:22:40.256285</td>\n",
       "      <td>2</td>\n",
       "      <td>2</td>\n",
       "      <td>0</td>\n",
       "      <td>...</td>\n",
       "      <td>0.0</td>\n",
       "      <td>0.0</td>\n",
       "      <td>0.0</td>\n",
       "      <td>0.0</td>\n",
       "      <td>0.0</td>\n",
       "      <td>0.0</td>\n",
       "      <td>0.0</td>\n",
       "      <td>0</td>\n",
       "      <td>1</td>\n",
       "      <td>DrDoS_LDAP</td>\n",
       "    </tr>\n",
       "  </tbody>\n",
       "</table>\n",
       "<p>5 rows × 87 columns</p>\n",
       "</div>"
      ],
      "text/plain": [
       "                                         Flow ID   Source IP   Source Port  \\\n",
       "Unnamed: 0                                                                   \n",
       "21010              172.16.0.5-192.168.50.1-0-0-0  172.16.0.5             0   \n",
       "20932        172.16.0.5-192.168.50.1-900-1808-17  172.16.0.5           900   \n",
       "27876       172.16.0.5-192.168.50.1-900-58766-17  172.16.0.5           900   \n",
       "24270       172.16.0.5-192.168.50.1-900-35228-17  172.16.0.5           900   \n",
       "5109        172.16.0.5-192.168.50.1-900-44969-17  172.16.0.5           900   \n",
       "\n",
       "            Destination IP   Destination Port   Protocol  \\\n",
       "Unnamed: 0                                                 \n",
       "21010         192.168.50.1                  0          0   \n",
       "20932         192.168.50.1               1808         17   \n",
       "27876         192.168.50.1              58766         17   \n",
       "24270         192.168.50.1              35228         17   \n",
       "5109          192.168.50.1              44969         17   \n",
       "\n",
       "                             Timestamp   Flow Duration   Total Fwd Packets  \\\n",
       "Unnamed: 0                                                                   \n",
       "21010       2018-12-01 11:22:40.254769         9141643               85894   \n",
       "20932       2018-12-01 11:22:40.255361               1                   2   \n",
       "27876       2018-12-01 11:22:40.255568               2                   2   \n",
       "24270       2018-12-01 11:22:40.256113               1                   2   \n",
       "5109        2018-12-01 11:22:40.256285               2                   2   \n",
       "\n",
       "             Total Backward Packets  ...   Active Std   Active Max  \\\n",
       "Unnamed: 0                           ...                             \n",
       "21010                            28  ...          0.0          0.0   \n",
       "20932                             0  ...          0.0          0.0   \n",
       "27876                             0  ...          0.0          0.0   \n",
       "24270                             0  ...          0.0          0.0   \n",
       "5109                              0  ...          0.0          0.0   \n",
       "\n",
       "             Active Min  Idle Mean   Idle Std   Idle Max   Idle Min  \\\n",
       "Unnamed: 0                                                            \n",
       "21010               0.0        0.0        0.0        0.0        0.0   \n",
       "20932               0.0        0.0        0.0        0.0        0.0   \n",
       "27876               0.0        0.0        0.0        0.0        0.0   \n",
       "24270               0.0        0.0        0.0        0.0        0.0   \n",
       "5109                0.0        0.0        0.0        0.0        0.0   \n",
       "\n",
       "            SimillarHTTP   Inbound       Label  \n",
       "Unnamed: 0                                      \n",
       "21010                  0         1  DrDoS_LDAP  \n",
       "20932                  0         1  DrDoS_LDAP  \n",
       "27876                  0         1  DrDoS_LDAP  \n",
       "24270                  0         1  DrDoS_LDAP  \n",
       "5109                   0         1  DrDoS_LDAP  \n",
       "\n",
       "[5 rows x 87 columns]"
      ]
     },
     "metadata": {},
     "output_type": "display_data"
    }
   ],
   "source": [
    "with ZipFile(path_data+'CSV-01-12.zip') as myzip:\n",
    "    # list available files in the container\n",
    "    print(myzip.namelist())\n",
    "\n",
    "    with myzip.open('01-12/DrDoS_LDAP.csv', 'r') as myfile:\n",
    "        df = pd.read_csv(myfile, index_col='Unnamed: 0', nrows=10)\n",
    "        #for chunk in pd.read_csv(myfile, chunksize=ChunkSize, index_col='Unnamed: 0'):\n",
    "            #df = chunk\n",
    "            #break\n",
    "            #while counter < 5:\n",
    "                #df = pd.concat([df, chunk])\n",
    "                #counter +=1\n",
    "\n",
    "df.head()"
   ]
  }
 ],
 "metadata": {
  "kernelspec": {
   "display_name": "Python 3",
   "language": "python",
   "name": "python3"
  },
  "language_info": {
   "codemirror_mode": {
    "name": "ipython",
    "version": 3
   },
   "file_extension": ".py",
   "mimetype": "text/x-python",
   "name": "python",
   "nbconvert_exporter": "python",
   "pygments_lexer": "ipython3",
   "version": "3.10.9"
  }
 },
 "nbformat": 4,
 "nbformat_minor": 2
}
