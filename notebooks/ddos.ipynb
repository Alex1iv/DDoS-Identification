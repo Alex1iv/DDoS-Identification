{
 "cells": [
  {
   "cell_type": "code",
   "execution_count": 232,
   "metadata": {},
   "outputs": [
    {
     "name": "stdout",
     "output_type": "stream",
     "text": [
      "../models/ \n",
      " ../data/\n"
     ]
    }
   ],
   "source": [
    "import numpy as np\n",
    "import pandas as pd\n",
    "\n",
    "import matplotlib.pyplot as plt\n",
    "import seaborn as sns\n",
    "\n",
    "#import tensorflow as tf\n",
    "#from sklearn.model_selection import train_test_split\n",
    "\n",
    "# Hides output while after model learned\n",
    "from IPython.display import clear_output\n",
    "from IPython import display\n",
    "\n",
    "from zipfile import ZipFile\n",
    "\n",
    "import sys\n",
    "#set path\n",
    "sys.path.insert(1, '../')\n",
    "\n",
    "from utils.reader_config import config_reader\n",
    "\n",
    "# Import parameters\n",
    "config = config_reader('../config/config.json')\n",
    "\n",
    "# Set the seed value for experiment reproducibility.\n",
    "random_seed = config.random_seed\n",
    "#tf.random.set_seed(random_seed)\n",
    "np.random.seed(random_seed)\n",
    "\n",
    "path_figures = \"../figures/\"\n",
    "path_data = \"../data/\" \n",
    "path_models = '../models/'\n",
    "print(path_models,'\\n', path_data)"
   ]
  },
  {
   "cell_type": "markdown",
   "metadata": {},
   "source": [
    "# List of extracted features and descriptions:"
   ]
  },
  {
   "cell_type": "markdown",
   "metadata": {},
   "source": [
    "\n",
    "| Feature Name | Description|\n",
    "| :--- | :-- |\n",
    "| Flow ID |   |\n",
    "| Source IP |   |\n",
    "| Source Port |   |\n",
    "| Destination IP |   |\n",
    "| Destination Port |   |\n",
    "| Protocol |   |\n",
    "| Timestamp |   |\n",
    "| Flow Duration | Duration of the flow in Microsecond  |\n",
    "| Total Fwd Packets <br> Total Backward Packets|  Total packets in the forward (backward) direction |\n",
    "| Total Length of Fwd Packets <br>  Total Length of Bwd Packets| Total size of packet in forward (backward) direction |\n",
    "| Fwd Packet Length Max <br> Fwd Packet Length Min <br> Fwd Packet Length Mean <br> Fwd Packet Length Std <br> Bwd Packet Length Max <br> Bwd Packet Length Min <br> Bwd Packet Length Mean <br> Bwd Packet Length Std|  Max (Min, Mean, SD) size of packet in backward  (backward)  direction |\n",
    "| Flow Bytes/s <br> Flow Packets/s |  Number of flow packets (bytes) per second |\n",
    "| Flow IAT Mean <br> Flow IAT Std <br> Flow IAT Max <br> Flow IAT Min | Mean (SD, Max, Min) time between two packets sent in the flow  |\n",
    "| Fwd IAT Total <br> Fwd IAT Mean <br> Fwd IAT Std <br> Fwd IAT Max  <br> Fwd IAT Min | Total time (Mean, SD, Max, Min) between two packets sent in the forward direction  |\n",
    "| Bwd IAT Total <br> Bwd IAT Mean <br> Bwd IAT Std <br> Bwd IAT Max  <br> Bwd IAT Min | Total time (Mean, SD, Max, Min) between two packets sent in the backward direction |\n",
    "| Fwd PSH Flags <br> Bwd PSH Flags | Number of times the PSH flag was set in packets travelling in the forward (backward) direction (0 for UDP)  |\n",
    "| Fwd URG Flags <br> Bwd URG Flags | Number of times the URG flag was set in packets travelling in the forward (backward) direction (0 for UDP)  |\n",
    "| Fwd Header Length <br> Bwd Header Length | Total bytes used for headers in the forward direction  |\n",
    "| Fwd Packets/s <br> Bwd Packets/s | Number of forward (backward) packets per second  |\n",
    "| Min Packet Length <br>  Max Packet Length <br> Packet Length Mean <br> Packet Length Std  <br> Packet Length Variance <br>  | Mean (Max, Mean, SD, Variance) length of a packet |\n",
    "| FIN Flag Count <br> SYN Flag Count <br> RST Flag Count <br> PSH Flag Count <br> ACK Flag Count <br> URG Flag Count  <br> CWE Flag Count  <br> ECE Flag Count |  Number of packets with FIN (SYN, RST, PSH, ACK, URG, CWE, ECE) |\n",
    "| Down/Up Ratio | Download and upload ratio |\n",
    "| Average Packet Size | Average size of packet |\n",
    "| Avg Fwd Segment Size <br> Avg Bwd Segment Size | Average size observed in the forward  (backward) direction |\n",
    "| Fwd Header Length.1 |   |\n",
    "| Fwd Avg Bytes/Bulk <br> Fwd Avg Packets/Bulk <br> Fwd Avg Bulk Rate | Average number of bytes (packets, bulk) bulk rate in the forward direction   |\n",
    "| Bwd Avg Bytes/Bulk <br> Bwd Avg Packets/Bulk <br> Bwd Avg Bulk Rate | Average number of bytes (packets, bulk) bulk rate in the backward direction  |\n",
    "| Sub Flow Fwd Packets <br> Sub Flow Fwd Bytes| The average number of packets (bytes) in a sub flow in the forward direction  |\n",
    "| Sub Flow Bwd Packets <br> Sub Flow Bwd Bytes | The average number of packets (bytes) in a sub flow in the backward direction   |\n",
    "| Init_Win_bytes_forward <br> Init_Win_bytes_backward  | The total number of bytes sent in initial window in the forward (backward) direction |\n",
    "| act_data_pkt_ Fwd | Count of packets with at least 1 byte of TCP data payload in the forward direction |\n",
    "| Min_seg_size_forward | Minimum segment size observed in the forward direction |\n",
    "| Active Mean (Std, Max, Min) | Mean (Standard deviation, Maximum, Minimum) time a flow was active before becoming idle  |\n",
    "| Idle Mean (Std, Max, Min) | Mean (Standard deviation, Maximum, Minimum) time a flow was idle before becoming active |\n",
    "| SimillarHTTP |   |\n",
    "| Inbound |   |\n",
    "| Label |   |"
   ]
  },
  {
   "cell_type": "markdown",
   "metadata": {},
   "source": [
    "# Read data"
   ]
  },
  {
   "cell_type": "code",
   "execution_count": 233,
   "metadata": {},
   "outputs": [
    {
     "name": "stdout",
     "output_type": "stream",
     "text": [
      "['03-11/', '03-11/UDPLag.csv', '03-11/UDP.csv', '03-11/.~lock.UDPLag.csv#', '03-11/LDAP.csv', '03-11/MSSQL.csv', '03-11/NetBIOS.csv', '03-11/Portmap.csv', '03-11/Syn.csv']\n"
     ]
    }
   ],
   "source": [
    "archive = 'CSV-03-11.zip' #''CSV-01-12.zip'\n",
    "with ZipFile(path_data + archive) as myzip:\n",
    "    # list available files in the container\n",
    "    print(myzip.namelist())"
   ]
  },
  {
   "cell_type": "code",
   "execution_count": 234,
   "metadata": {},
   "outputs": [
    {
     "data": {
      "text/html": [
       "<div>\n",
       "<style scoped>\n",
       "    .dataframe tbody tr th:only-of-type {\n",
       "        vertical-align: middle;\n",
       "    }\n",
       "\n",
       "    .dataframe tbody tr th {\n",
       "        vertical-align: top;\n",
       "    }\n",
       "\n",
       "    .dataframe thead th {\n",
       "        text-align: right;\n",
       "    }\n",
       "</style>\n",
       "<table border=\"1\" class=\"dataframe\">\n",
       "  <thead>\n",
       "    <tr style=\"text-align: right;\">\n",
       "      <th></th>\n",
       "      <th>Flow ID</th>\n",
       "      <th>Source IP</th>\n",
       "      <th>Source Port</th>\n",
       "      <th>Destination IP</th>\n",
       "      <th>Destination Port</th>\n",
       "      <th>Protocol</th>\n",
       "      <th>Timestamp</th>\n",
       "      <th>Flow Duration</th>\n",
       "      <th>Total Fwd Packets</th>\n",
       "      <th>Total Backward Packets</th>\n",
       "      <th>...</th>\n",
       "      <th>Active Std</th>\n",
       "      <th>Active Max</th>\n",
       "      <th>Active Min</th>\n",
       "      <th>Idle Mean</th>\n",
       "      <th>Idle Std</th>\n",
       "      <th>Idle Max</th>\n",
       "      <th>Idle Min</th>\n",
       "      <th>SimillarHTTP</th>\n",
       "      <th>Inbound</th>\n",
       "      <th>Label</th>\n",
       "    </tr>\n",
       "    <tr>\n",
       "      <th>Unnamed: 0</th>\n",
       "      <th></th>\n",
       "      <th></th>\n",
       "      <th></th>\n",
       "      <th></th>\n",
       "      <th></th>\n",
       "      <th></th>\n",
       "      <th></th>\n",
       "      <th></th>\n",
       "      <th></th>\n",
       "      <th></th>\n",
       "      <th></th>\n",
       "      <th></th>\n",
       "      <th></th>\n",
       "      <th></th>\n",
       "      <th></th>\n",
       "      <th></th>\n",
       "      <th></th>\n",
       "      <th></th>\n",
       "      <th></th>\n",
       "      <th></th>\n",
       "      <th></th>\n",
       "    </tr>\n",
       "  </thead>\n",
       "  <tbody>\n",
       "    <tr>\n",
       "      <th>21010</th>\n",
       "      <td>172.16.0.5-192.168.50.1-0-0-0</td>\n",
       "      <td>172.16.0.5</td>\n",
       "      <td>0</td>\n",
       "      <td>192.168.50.1</td>\n",
       "      <td>0</td>\n",
       "      <td>0</td>\n",
       "      <td>2018-12-01 11:22:40.254769</td>\n",
       "      <td>9141643</td>\n",
       "      <td>85894</td>\n",
       "      <td>28</td>\n",
       "      <td>...</td>\n",
       "      <td>0.0</td>\n",
       "      <td>0.0</td>\n",
       "      <td>0.0</td>\n",
       "      <td>0.0</td>\n",
       "      <td>0.0</td>\n",
       "      <td>0.0</td>\n",
       "      <td>0.0</td>\n",
       "      <td>0</td>\n",
       "      <td>1</td>\n",
       "      <td>DrDoS_LDAP</td>\n",
       "    </tr>\n",
       "    <tr>\n",
       "      <th>20932</th>\n",
       "      <td>172.16.0.5-192.168.50.1-900-1808-17</td>\n",
       "      <td>172.16.0.5</td>\n",
       "      <td>900</td>\n",
       "      <td>192.168.50.1</td>\n",
       "      <td>1808</td>\n",
       "      <td>17</td>\n",
       "      <td>2018-12-01 11:22:40.255361</td>\n",
       "      <td>1</td>\n",
       "      <td>2</td>\n",
       "      <td>0</td>\n",
       "      <td>...</td>\n",
       "      <td>0.0</td>\n",
       "      <td>0.0</td>\n",
       "      <td>0.0</td>\n",
       "      <td>0.0</td>\n",
       "      <td>0.0</td>\n",
       "      <td>0.0</td>\n",
       "      <td>0.0</td>\n",
       "      <td>0</td>\n",
       "      <td>1</td>\n",
       "      <td>DrDoS_LDAP</td>\n",
       "    </tr>\n",
       "  </tbody>\n",
       "</table>\n",
       "<p>2 rows × 87 columns</p>\n",
       "</div>"
      ],
      "text/plain": [
       "                                        Flow ID   Source IP  Source Port  \\\n",
       "Unnamed: 0                                                                 \n",
       "21010             172.16.0.5-192.168.50.1-0-0-0  172.16.0.5            0   \n",
       "20932       172.16.0.5-192.168.50.1-900-1808-17  172.16.0.5          900   \n",
       "\n",
       "           Destination IP  Destination Port  Protocol  \\\n",
       "Unnamed: 0                                              \n",
       "21010        192.168.50.1                 0         0   \n",
       "20932        192.168.50.1              1808        17   \n",
       "\n",
       "                             Timestamp  Flow Duration  Total Fwd Packets  \\\n",
       "Unnamed: 0                                                                 \n",
       "21010       2018-12-01 11:22:40.254769        9141643              85894   \n",
       "20932       2018-12-01 11:22:40.255361              1                  2   \n",
       "\n",
       "            Total Backward Packets  ...  Active Std  Active Max  Active Min  \\\n",
       "Unnamed: 0                          ...                                       \n",
       "21010                           28  ...         0.0         0.0         0.0   \n",
       "20932                            0  ...         0.0         0.0         0.0   \n",
       "\n",
       "            Idle Mean  Idle Std  Idle Max  Idle Min  SimillarHTTP  Inbound  \\\n",
       "Unnamed: 0                                                                   \n",
       "21010             0.0       0.0       0.0       0.0             0        1   \n",
       "20932             0.0       0.0       0.0       0.0             0        1   \n",
       "\n",
       "                 Label  \n",
       "Unnamed: 0              \n",
       "21010       DrDoS_LDAP  \n",
       "20932       DrDoS_LDAP  \n",
       "\n",
       "[2 rows x 87 columns]"
      ]
     },
     "execution_count": 234,
     "metadata": {},
     "output_type": "execute_result"
    }
   ],
   "source": [
    "# remove spaces from feature names\n",
    "import re\n",
    "rename_dic = dict()\n",
    "\n",
    "\n",
    "with ZipFile(path_data+'CSV-01-12.zip') as myzip, myzip.open('01-12/DrDoS_LDAP.csv', 'r') as myfile:\n",
    "    # list available files in the container\n",
    "    #print(myzip.namelist())\n",
    "    df = pd.read_csv(myfile, index_col='Unnamed: 0', nrows=1e5, low_memory=False)\n",
    "    \n",
    "for i in df.columns:\n",
    "    rename_dic[i] = re.sub('^\\s+|\\s+$/g', \"\", i)\n",
    "df.rename(columns=rename_dic, inplace=True)\n",
    "\n",
    "#df.columns\n",
    "df.head(2)"
   ]
  },
  {
   "cell_type": "code",
   "execution_count": 235,
   "metadata": {},
   "outputs": [],
   "source": [
    "# with ZipFile(path_data + archive) as myzip, myzip.open('03-11/Portmap.csv', 'r') as myfile: #'01-12/DrDoS_LDAP.csv'\n",
    "#     df1 = pd.read_csv(myfile, nrows=10, low_memory=False);#,index_col='Unnamed: 0' \n",
    "\n",
    "# df1.head()"
   ]
  },
  {
   "cell_type": "markdown",
   "metadata": {},
   "source": [
    "# Feature analysis"
   ]
  },
  {
   "cell_type": "code",
   "execution_count": 236,
   "metadata": {},
   "outputs": [
    {
     "data": {
      "text/html": [
       "<div>\n",
       "<style scoped>\n",
       "    .dataframe tbody tr th:only-of-type {\n",
       "        vertical-align: middle;\n",
       "    }\n",
       "\n",
       "    .dataframe tbody tr th {\n",
       "        vertical-align: top;\n",
       "    }\n",
       "\n",
       "    .dataframe thead th {\n",
       "        text-align: right;\n",
       "    }\n",
       "</style>\n",
       "<table border=\"1\" class=\"dataframe\">\n",
       "  <thead>\n",
       "    <tr style=\"text-align: right;\">\n",
       "      <th></th>\n",
       "      <th>Flow ID</th>\n",
       "      <th>Source IP</th>\n",
       "      <th>Source Port</th>\n",
       "      <th>Destination IP</th>\n",
       "      <th>Destination Port</th>\n",
       "      <th>Protocol</th>\n",
       "      <th>Timestamp</th>\n",
       "      <th>Flow Duration</th>\n",
       "      <th>Total Fwd Packets</th>\n",
       "      <th>Total Backward Packets</th>\n",
       "      <th>...</th>\n",
       "      <th>Active Std</th>\n",
       "      <th>Active Max</th>\n",
       "      <th>Active Min</th>\n",
       "      <th>Idle Mean</th>\n",
       "      <th>Idle Std</th>\n",
       "      <th>Idle Max</th>\n",
       "      <th>Idle Min</th>\n",
       "      <th>SimillarHTTP</th>\n",
       "      <th>Inbound</th>\n",
       "      <th>Label</th>\n",
       "    </tr>\n",
       "    <tr>\n",
       "      <th>Unnamed: 0</th>\n",
       "      <th></th>\n",
       "      <th></th>\n",
       "      <th></th>\n",
       "      <th></th>\n",
       "      <th></th>\n",
       "      <th></th>\n",
       "      <th></th>\n",
       "      <th></th>\n",
       "      <th></th>\n",
       "      <th></th>\n",
       "      <th></th>\n",
       "      <th></th>\n",
       "      <th></th>\n",
       "      <th></th>\n",
       "      <th></th>\n",
       "      <th></th>\n",
       "      <th></th>\n",
       "      <th></th>\n",
       "      <th></th>\n",
       "      <th></th>\n",
       "      <th></th>\n",
       "    </tr>\n",
       "  </thead>\n",
       "  <tbody>\n",
       "    <tr>\n",
       "      <th>21010</th>\n",
       "      <td>172.16.0.5-192.168.50.1-0-0-0</td>\n",
       "      <td>172.16.0.5</td>\n",
       "      <td>0</td>\n",
       "      <td>192.168.50.1</td>\n",
       "      <td>0</td>\n",
       "      <td>0</td>\n",
       "      <td>2018-12-01 11:22:40.254769</td>\n",
       "      <td>9141643</td>\n",
       "      <td>85894</td>\n",
       "      <td>28</td>\n",
       "      <td>...</td>\n",
       "      <td>0.0</td>\n",
       "      <td>0.0</td>\n",
       "      <td>0.0</td>\n",
       "      <td>0.0</td>\n",
       "      <td>0.0</td>\n",
       "      <td>0.0</td>\n",
       "      <td>0.0</td>\n",
       "      <td>0</td>\n",
       "      <td>1</td>\n",
       "      <td>DrDoS_LDAP</td>\n",
       "    </tr>\n",
       "    <tr>\n",
       "      <th>20932</th>\n",
       "      <td>172.16.0.5-192.168.50.1-900-1808-17</td>\n",
       "      <td>172.16.0.5</td>\n",
       "      <td>900</td>\n",
       "      <td>192.168.50.1</td>\n",
       "      <td>1808</td>\n",
       "      <td>17</td>\n",
       "      <td>2018-12-01 11:22:40.255361</td>\n",
       "      <td>1</td>\n",
       "      <td>2</td>\n",
       "      <td>0</td>\n",
       "      <td>...</td>\n",
       "      <td>0.0</td>\n",
       "      <td>0.0</td>\n",
       "      <td>0.0</td>\n",
       "      <td>0.0</td>\n",
       "      <td>0.0</td>\n",
       "      <td>0.0</td>\n",
       "      <td>0.0</td>\n",
       "      <td>0</td>\n",
       "      <td>1</td>\n",
       "      <td>DrDoS_LDAP</td>\n",
       "    </tr>\n",
       "  </tbody>\n",
       "</table>\n",
       "<p>2 rows × 87 columns</p>\n",
       "</div>"
      ],
      "text/plain": [
       "                                        Flow ID   Source IP  Source Port  \\\n",
       "Unnamed: 0                                                                 \n",
       "21010             172.16.0.5-192.168.50.1-0-0-0  172.16.0.5            0   \n",
       "20932       172.16.0.5-192.168.50.1-900-1808-17  172.16.0.5          900   \n",
       "\n",
       "           Destination IP  Destination Port  Protocol  \\\n",
       "Unnamed: 0                                              \n",
       "21010        192.168.50.1                 0         0   \n",
       "20932        192.168.50.1              1808        17   \n",
       "\n",
       "                             Timestamp  Flow Duration  Total Fwd Packets  \\\n",
       "Unnamed: 0                                                                 \n",
       "21010       2018-12-01 11:22:40.254769        9141643              85894   \n",
       "20932       2018-12-01 11:22:40.255361              1                  2   \n",
       "\n",
       "            Total Backward Packets  ...  Active Std  Active Max  Active Min  \\\n",
       "Unnamed: 0                          ...                                       \n",
       "21010                           28  ...         0.0         0.0         0.0   \n",
       "20932                            0  ...         0.0         0.0         0.0   \n",
       "\n",
       "            Idle Mean  Idle Std  Idle Max  Idle Min  SimillarHTTP  Inbound  \\\n",
       "Unnamed: 0                                                                   \n",
       "21010             0.0       0.0       0.0       0.0             0        1   \n",
       "20932             0.0       0.0       0.0       0.0             0        1   \n",
       "\n",
       "                 Label  \n",
       "Unnamed: 0              \n",
       "21010       DrDoS_LDAP  \n",
       "20932       DrDoS_LDAP  \n",
       "\n",
       "[2 rows x 87 columns]"
      ]
     },
     "execution_count": 236,
     "metadata": {},
     "output_type": "execute_result"
    }
   ],
   "source": [
    "df.head(2)"
   ]
  },
  {
   "cell_type": "code",
   "execution_count": null,
   "metadata": {},
   "outputs": [],
   "source": [
    "df = df.astype({\n",
    "    'Flow ID':'category', 'Protocol':'category', 'Flow Duration':'category',\n",
    "    'Total Fwd Packets':'category', 'Total Backward Packets':'category',\n",
    "    })\n",
    "    #     , 'Source IP', 'Source Port', 'Destination IP',\n",
    "    #    'Destination Port', 'Timestamp', \n",
    "    #     ,\n",
    "    #    'Total Length of Fwd Packets', 'Total Length of Bwd Packets',\n",
    "    #    'Fwd Packet Length Max', 'Fwd Packet Length Min',\n",
    "    #    'Fwd Packet Length Mean', 'Fwd Packet Length Std',\n",
    "    #    'Bwd Packet Length Max', 'Bwd Packet Length Min',\n",
    "    #    'Bwd Packet Length Mean', 'Bwd Packet Length Std', 'Flow Bytes/s',\n",
    "    #    'Flow Packets/s', 'Flow IAT Mean', 'Flow IAT Std', 'Flow IAT Max',\n",
    "    #    'Flow IAT Min', 'Fwd IAT Total', 'Fwd IAT Mean', 'Fwd IAT Std',\n",
    "    #    'Fwd IAT Max', 'Fwd IAT Min', 'Bwd IAT Total', 'Bwd IAT Mean',\n",
    "    #    'Bwd IAT Std', 'Bwd IAT Max', 'Bwd IAT Min', 'Fwd PSH Flags',\n",
    "    #    'Bwd PSH Flags', 'Fwd URG Flags', 'Bwd URG Flags', 'Fwd Header Length',\n",
    "    #    'Bwd Header Length', 'Fwd Packets/s', 'Bwd Packets/s',\n",
    "    #    'Min Packet Length', 'Max Packet Length', 'Packet Length Mean',\n",
    "    #    'Packet Length Std', 'Packet Length Variance', 'FIN Flag Count',\n",
    "    #    'SYN Flag Count', 'RST Flag Count', 'PSH Flag Count', 'ACK Flag Count',\n",
    "    #    'URG Flag Count', 'CWE Flag Count', 'ECE Flag Count', 'Down/Up Ratio',\n",
    "    #    'Average Packet Size', 'Avg Fwd Segment Size', 'Avg Bwd Segment Size',\n",
    "    #    'Fwd Header Length.1', 'Fwd Avg Bytes/Bulk', 'Fwd Avg Packets/Bulk',\n",
    "    #    'Fwd Avg Bulk Rate', 'Bwd Avg Bytes/Bulk', 'Bwd Avg Packets/Bulk',\n",
    "    #    'Bwd Avg Bulk Rate', 'Subflow Fwd Packets', 'Subflow Fwd Bytes',\n",
    "    #    'Subflow Bwd Packets', 'Subflow Bwd Bytes', 'Init_Win_bytes_forward',\n",
    "    #    'Init_Win_bytes_backward', 'act_data_pkt_fwd', 'min_seg_size_forward')"
   ]
  },
  {
   "cell_type": "code",
   "execution_count": 238,
   "metadata": {},
   "outputs": [
    {
     "name": "stdout",
     "output_type": "stream",
     "text": [
      "<class 'pandas.core.frame.DataFrame'>\n",
      "Index: 100000 entries, 21010 to 18892\n",
      "Data columns (total 87 columns):\n",
      " #   Column                       Non-Null Count   Dtype   \n",
      "---  ------                       --------------   -----   \n",
      " 0   Flow ID                      100000 non-null  category\n",
      " 1   Source IP                    100000 non-null  object  \n",
      " 2   Source Port                  100000 non-null  int64   \n",
      " 3   Destination IP               100000 non-null  object  \n",
      " 4   Destination Port             100000 non-null  int64   \n",
      " 5   Protocol                     100000 non-null  category\n",
      " 6   Timestamp                    100000 non-null  object  \n",
      " 7   Flow Duration                100000 non-null  int64   \n",
      " 8   Total Fwd Packets            100000 non-null  int64   \n",
      " 9   Total Backward Packets       100000 non-null  int64   \n",
      " 10  Total Length of Fwd Packets  100000 non-null  float64 \n",
      " 11  Total Length of Bwd Packets  100000 non-null  float64 \n",
      " 12  Fwd Packet Length Max        100000 non-null  float64 \n",
      " 13  Fwd Packet Length Min        100000 non-null  float64 \n",
      " 14  Fwd Packet Length Mean       100000 non-null  float64 \n",
      " 15  Fwd Packet Length Std        100000 non-null  float64 \n",
      " 16  Bwd Packet Length Max        100000 non-null  float64 \n",
      " 17  Bwd Packet Length Min        100000 non-null  float64 \n",
      " 18  Bwd Packet Length Mean       100000 non-null  float64 \n",
      " 19  Bwd Packet Length Std        100000 non-null  float64 \n",
      " 20  Flow Bytes/s                 99999 non-null   float64 \n",
      " 21  Flow Packets/s               100000 non-null  float64 \n",
      " 22  Flow IAT Mean                100000 non-null  float64 \n",
      " 23  Flow IAT Std                 100000 non-null  float64 \n",
      " 24  Flow IAT Max                 100000 non-null  float64 \n",
      " 25  Flow IAT Min                 100000 non-null  float64 \n",
      " 26  Fwd IAT Total                100000 non-null  float64 \n",
      " 27  Fwd IAT Mean                 100000 non-null  float64 \n",
      " 28  Fwd IAT Std                  100000 non-null  float64 \n",
      " 29  Fwd IAT Max                  100000 non-null  float64 \n",
      " 30  Fwd IAT Min                  100000 non-null  float64 \n",
      " 31  Bwd IAT Total                100000 non-null  float64 \n",
      " 32  Bwd IAT Mean                 100000 non-null  float64 \n",
      " 33  Bwd IAT Std                  100000 non-null  float64 \n",
      " 34  Bwd IAT Max                  100000 non-null  float64 \n",
      " 35  Bwd IAT Min                  100000 non-null  float64 \n",
      " 36  Fwd PSH Flags                100000 non-null  int64   \n",
      " 37  Bwd PSH Flags                100000 non-null  int64   \n",
      " 38  Fwd URG Flags                100000 non-null  int64   \n",
      " 39  Bwd URG Flags                100000 non-null  int64   \n",
      " 40  Fwd Header Length            100000 non-null  int64   \n",
      " 41  Bwd Header Length            100000 non-null  int64   \n",
      " 42  Fwd Packets/s                100000 non-null  float64 \n",
      " 43  Bwd Packets/s                100000 non-null  float64 \n",
      " 44  Min Packet Length            100000 non-null  float64 \n",
      " 45  Max Packet Length            100000 non-null  float64 \n",
      " 46  Packet Length Mean           100000 non-null  float64 \n",
      " 47  Packet Length Std            100000 non-null  float64 \n",
      " 48  Packet Length Variance       100000 non-null  float64 \n",
      " 49  FIN Flag Count               100000 non-null  int64   \n",
      " 50  SYN Flag Count               100000 non-null  int64   \n",
      " 51  RST Flag Count               100000 non-null  int64   \n",
      " 52  PSH Flag Count               100000 non-null  int64   \n",
      " 53  ACK Flag Count               100000 non-null  int64   \n",
      " 54  URG Flag Count               100000 non-null  int64   \n",
      " 55  CWE Flag Count               100000 non-null  int64   \n",
      " 56  ECE Flag Count               100000 non-null  int64   \n",
      " 57  Down/Up Ratio                100000 non-null  float64 \n",
      " 58  Average Packet Size          100000 non-null  float64 \n",
      " 59  Avg Fwd Segment Size         100000 non-null  float64 \n",
      " 60  Avg Bwd Segment Size         100000 non-null  float64 \n",
      " 61  Fwd Header Length.1          100000 non-null  int64   \n",
      " 62  Fwd Avg Bytes/Bulk           100000 non-null  int64   \n",
      " 63  Fwd Avg Packets/Bulk         100000 non-null  int64   \n",
      " 64  Fwd Avg Bulk Rate            100000 non-null  int64   \n",
      " 65  Bwd Avg Bytes/Bulk           100000 non-null  int64   \n",
      " 66  Bwd Avg Packets/Bulk         100000 non-null  int64   \n",
      " 67  Bwd Avg Bulk Rate            100000 non-null  int64   \n",
      " 68  Subflow Fwd Packets          100000 non-null  int64   \n",
      " 69  Subflow Fwd Bytes            100000 non-null  int64   \n",
      " 70  Subflow Bwd Packets          100000 non-null  int64   \n",
      " 71  Subflow Bwd Bytes            100000 non-null  int64   \n",
      " 72  Init_Win_bytes_forward       100000 non-null  int64   \n",
      " 73  Init_Win_bytes_backward      100000 non-null  int64   \n",
      " 74  act_data_pkt_fwd             100000 non-null  int64   \n",
      " 75  min_seg_size_forward         100000 non-null  int64   \n",
      " 76  Active Mean                  100000 non-null  float64 \n",
      " 77  Active Std                   100000 non-null  float64 \n",
      " 78  Active Max                   100000 non-null  float64 \n",
      " 79  Active Min                   100000 non-null  float64 \n",
      " 80  Idle Mean                    100000 non-null  float64 \n",
      " 81  Idle Std                     100000 non-null  float64 \n",
      " 82  Idle Max                     100000 non-null  float64 \n",
      " 83  Idle Min                     100000 non-null  float64 \n",
      " 84  SimillarHTTP                 100000 non-null  object  \n",
      " 85  Inbound                      100000 non-null  int64   \n",
      " 86  Label                        100000 non-null  object  \n",
      "dtypes: category(2), float64(45), int64(35), object(5)\n",
      "memory usage: 68.9+ MB\n"
     ]
    }
   ],
   "source": [
    "df.info()"
   ]
  },
  {
   "cell_type": "markdown",
   "metadata": {},
   "source": [
    "### Flow Duration"
   ]
  },
  {
   "cell_type": "code",
   "execution_count": 239,
   "metadata": {},
   "outputs": [
    {
     "name": "stdout",
     "output_type": "stream",
     "text": [
      "[1, 2, 0, 49, 48]\n"
     ]
    }
   ],
   "source": [
    "f = list(df['Flow Duration'].value_counts().nlargest(5).index)\n",
    "#f.sort()\n",
    "print(f)\n",
    "# plt.figure(figsize=(6,4))\n",
    "# sns.histplot(df['Source Port'])\n",
    "# plt.yscale('log');"
   ]
  },
  {
   "cell_type": "code",
   "execution_count": 240,
   "metadata": {},
   "outputs": [],
   "source": [
    "nums = [1, 2, 0, 49, 48]\n",
    "df['Flow Duration'] = df['Flow Duration'].apply(lambda x: x if x in nums else 100)"
   ]
  },
  {
   "cell_type": "code",
   "execution_count": 241,
   "metadata": {},
   "outputs": [
    {
     "data": {
      "image/png": "[encoded data removed]",
      "text/plain": [
       "<Figure size 600x400 with 1 Axes>"
      ]
     },
     "metadata": {},
     "output_type": "display_data"
    }
   ],
   "source": [
    "plt.figure(figsize=(6,4))\n",
    "plt.hist(df['Flow Duration']);"
   ]
  },
  {
   "cell_type": "markdown",
   "metadata": {},
   "source": [
    "### Protocol"
   ]
  },
  {
   "cell_type": "code",
   "execution_count": 242,
   "metadata": {},
   "outputs": [
    {
     "data": {
      "text/plain": [
       "Protocol\n",
       "17    99929\n",
       "6        62\n",
       "0         9\n",
       "Name: count, dtype: int64"
      ]
     },
     "execution_count": 242,
     "metadata": {},
     "output_type": "execute_result"
    }
   ],
   "source": [
    "df['Protocol'].value_counts().nlargest(5)#.index)\n",
    "#f.sort()\n",
    "#print(f)\n",
    "# plt.figure(figsize=(6,4))\n",
    "# sns.histplot(df['Source Port'])\n",
    "# plt.yscale('log');"
   ]
  },
  {
   "cell_type": "markdown",
   "metadata": {},
   "source": [
    "### Flow Duration"
   ]
  },
  {
   "cell_type": "code",
   "execution_count": 243,
   "metadata": {},
   "outputs": [
    {
     "data": {
      "text/plain": [
       "Flow Duration\n",
       "1      66325\n",
       "2      23516\n",
       "100     6132\n",
       "0       2502\n",
       "49       814\n",
       "Name: count, dtype: int64"
      ]
     },
     "execution_count": 243,
     "metadata": {},
     "output_type": "execute_result"
    }
   ],
   "source": [
    "df['Flow Duration'].value_counts().nlargest(5)"
   ]
  },
  {
   "cell_type": "code",
   "execution_count": null,
   "metadata": {},
   "outputs": [],
   "source": [
    "#df['Flow Duration'] = np.log10(df['Flow Duration']).replace([np.inf, -np.inf], 0).astype('int32')\n",
    "df['Flow Duration'] = np.digitize(df['Flow Duration'], bins=[1, 10, 100, 1000, 1e4, 1e5, 1e6, 1e7])\n",
    "df['Flow Duration'] = df['Flow Duration'].astype('category')\n",
    "#df['Flow Duration']"
   ]
  },
  {
   "cell_type": "code",
   "execution_count": null,
   "metadata": {},
   "outputs": [],
   "source": [
    "# pd.cut(df['Flow Duration'], \n",
    "#        bins=[0, 1, 10, 100, 1000, 10000, 15000, 20000, 25000, 50000, 1e5, 1e6, 1e7],\n",
    "#        labels=False, retbins=True)#.value_counts()"
   ]
  },
  {
   "cell_type": "markdown",
   "metadata": {},
   "source": [
    "### Total Fwd Packets"
   ]
  },
  {
   "cell_type": "code",
   "execution_count": 256,
   "metadata": {},
   "outputs": [
    {
     "data": {
      "text/plain": [
       "Unnamed: 0\n",
       "21010    85894\n",
       "20922    85787\n",
       "20937    85738\n",
       "18587       28\n",
       "22412       28\n",
       "15          20\n",
       "21174       18\n",
       "2727        14\n",
       "14379       12\n",
       "9577        12\n",
       "Name: Total Fwd Packets, dtype: int64"
      ]
     },
     "execution_count": 256,
     "metadata": {},
     "output_type": "execute_result"
    }
   ],
   "source": [
    "df['Total Fwd Packets'].nlargest(10)"
   ]
  },
  {
   "cell_type": "code",
   "execution_count": null,
   "metadata": {},
   "outputs": [],
   "source": [
    "df['Total Fwd Packets'] = np.digitize(df['Total Fwd Packets'], bins=[100, 1000, 1e4, 1e5, 1e6])\n",
    "df['Total Fwd Packets'] = df['Total Fwd Packets'].astype('category')"
   ]
  },
  {
   "cell_type": "markdown",
   "metadata": {},
   "source": [
    "### 'Total Backward Packets'"
   ]
  },
  {
   "cell_type": "code",
   "execution_count": 262,
   "metadata": {},
   "outputs": [
    {
     "data": {
      "text/plain": [
       "Unnamed: 0\n",
       "20922    94\n",
       "21010    28\n",
       "15       24\n",
       "20937    12\n",
       "18        9\n",
       "14379     8\n",
       "30302     8\n",
       "19008     6\n",
       "23092     6\n",
       "2         5\n",
       "Name: Total Backward Packets, dtype: int64"
      ]
     },
     "execution_count": 262,
     "metadata": {},
     "output_type": "execute_result"
    }
   ],
   "source": [
    "df['Total Backward Packets'].nlargest(10)"
   ]
  },
  {
   "cell_type": "code",
   "execution_count": 263,
   "metadata": {},
   "outputs": [
    {
     "data": {
      "text/plain": [
       "Unnamed: 0\n",
       "21010    2\n",
       "20932    0\n",
       "27876    0\n",
       "24270    0\n",
       "5109     0\n",
       "        ..\n",
       "26444    0\n",
       "24719    0\n",
       "28424    0\n",
       "19748    0\n",
       "18892    0\n",
       "Name: Total Backward Packets, Length: 100000, dtype: int64"
      ]
     },
     "execution_count": 263,
     "metadata": {},
     "output_type": "execute_result"
    }
   ],
   "source": [
    "df['Total Backward Packets'] = np.digitize(df['Total Backward Packets'], bins=[1, 10, 100, 1000, 1e4, 1e5, 1e6, 1e7])\n",
    "df['Total Backward Packets'] #= df['Total Backward Packets'].astype('category')"
   ]
  },
  {
   "cell_type": "markdown",
   "metadata": {},
   "source": [
    "### Total Length of Fwd Packets"
   ]
  },
  {
   "cell_type": "code",
   "execution_count": 264,
   "metadata": {},
   "outputs": [
    {
     "data": {
      "text/plain": [
       "Total Length of Fwd Packets\n",
       "2944.0     87776\n",
       "2928.0      4184\n",
       "2848.0      2002\n",
       "2896.0      1985\n",
       "2736.0       965\n",
       "           ...  \n",
       "20608.0        1\n",
       "14720.0        1\n",
       "794.0          1\n",
       "5472.0         1\n",
       "52.0           1\n",
       "Name: count, Length: 82, dtype: int64"
      ]
     },
     "execution_count": 264,
     "metadata": {},
     "output_type": "execute_result"
    }
   ],
   "source": [
    "df['Total Length of Fwd Packets'].value_counts()"
   ]
  },
  {
   "cell_type": "code",
   "execution_count": 268,
   "metadata": {},
   "outputs": [
    {
     "data": {
      "text/plain": [
       "<Axes: >"
      ]
     },
     "execution_count": 268,
     "metadata": {},
     "output_type": "execute_result"
    },
    {
     "data": {
      "image/png": "[encoded data removed]",
      "text/plain": [
       "<Figure size 640x480 with 1 Axes>"
      ]
     },
     "metadata": {},
     "output_type": "display_data"
    }
   ],
   "source": [
    "np.log10(df['Total Length of Fwd Packets']).replace([np.inf, -np.inf], 0).hist()"
   ]
  },
  {
   "cell_type": "markdown",
   "metadata": {},
   "source": [
    "## Encoding"
   ]
  },
  {
   "cell_type": "code",
   "execution_count": null,
   "metadata": {},
   "outputs": [],
   "source": [
    "from sklearn.compose import ColumnTransformer\n",
    "from sklearn.pipeline import Pipeline\n",
    "from sklearn.impute import SimpleImputer\n",
    "from sklearn.preprocessing import StandardScaler, OneHotEncoder\n",
    "from sklearn.linear_model import LogisticRegression\n",
    "from sklearn.feature_selection import SelectKBest, f_regression\n",
    "# Define preprocessing for numeric columns (scale them)\n",
    "numeric_features = [6,7,8,9]\n",
    "\n",
    "numeric_transformer = Pipeline(steps=[\n",
    "    ('scaler', StandardScaler())])\n",
    "\n",
    "# Define preprocessing for categorical features (encode them)\n",
    "categorical_features = [0,1,2,3,4,5]\n",
    "categorical_transformer = Pipeline(steps=[\n",
    "    ('onehot', OneHotEncoder(handle_unknown='ignore'))])\n",
    "\n",
    "# Combine preprocessing steps\n",
    "preprocessor = ColumnTransformer(\n",
    "    transformers=[\n",
    "        ('num', numeric_transformer, numeric_features),\n",
    "        #('FeatureSelection', SelectKBest(f_regression, k=5)),\n",
    "        ('cat', categorical_transformer, categorical_features)])\n",
    "\n",
    "# Create preprocessing and training pipeline\n",
    "pipeline = Pipeline(steps=[('preprocessor', preprocessor),\n",
    "                           ('regressor', LogisticRegression())])\n",
    "\n"
   ]
  },
  {
   "cell_type": "code",
   "execution_count": null,
   "metadata": {},
   "outputs": [],
   "source": [
    "#!pip install joblib\n",
    "import joblib\n",
    "joblib.dump(pipeline, 'pipeline.pkl')"
   ]
  },
  {
   "cell_type": "code",
   "execution_count": null,
   "metadata": {},
   "outputs": [],
   "source": [
    "nums = [1, 2, 0, 49, 48]\n",
    "df['Flow Duration'] = df['Flow Duration'].apply(lambda x: x if x in nums else 100)"
   ]
  },
  {
   "cell_type": "code",
   "execution_count": null,
   "metadata": {},
   "outputs": [
    {
     "data": {
      "image/png": "[encoded data removed]",
      "text/plain": [
       "<Figure size 600x400 with 1 Axes>"
      ]
     },
     "metadata": {},
     "output_type": "display_data"
    }
   ],
   "source": [
    "plt.figure(figsize=(6,4))\n",
    "plt.hist(df['Flow Duration']);"
   ]
  },
  {
   "cell_type": "code",
   "execution_count": null,
   "metadata": {},
   "outputs": [],
   "source": [
    "df1.rename(columns={' Source IP':' Source IP'})"
   ]
  },
  {
   "cell_type": "code",
   "execution_count": 45,
   "metadata": {},
   "outputs": [
    {
     "data": {
      "text/plain": [
       "Index(['Unnamed: 0', 'Flow ID', ' Source IP', ' Source Port',\n",
       "       ' Destination IP', ' Destination Port', ' Protocol', ' Timestamp',\n",
       "       ' Flow Duration', ' Total Fwd Packets', ' Total Backward Packets',\n",
       "       'Total Length of Fwd Packets', ' Total Length of Bwd Packets',\n",
       "       ' Fwd Packet Length Max', ' Fwd Packet Length Min',\n",
       "       ' Fwd Packet Length Mean', ' Fwd Packet Length Std',\n",
       "       'Bwd Packet Length Max', ' Bwd Packet Length Min',\n",
       "       ' Bwd Packet Length Mean', ' Bwd Packet Length Std', 'Flow Bytes/s',\n",
       "       ' Flow Packets/s', ' Flow IAT Mean', ' Flow IAT Std', ' Flow IAT Max',\n",
       "       ' Flow IAT Min', 'Fwd IAT Total', ' Fwd IAT Mean', ' Fwd IAT Std',\n",
       "       ' Fwd IAT Max', ' Fwd IAT Min', 'Bwd IAT Total', ' Bwd IAT Mean',\n",
       "       ' Bwd IAT Std', ' Bwd IAT Max', ' Bwd IAT Min', 'Fwd PSH Flags',\n",
       "       ' Bwd PSH Flags', ' Fwd URG Flags', ' Bwd URG Flags',\n",
       "       ' Fwd Header Length', ' Bwd Header Length', 'Fwd Packets/s',\n",
       "       ' Bwd Packets/s', ' Min Packet Length', ' Max Packet Length',\n",
       "       ' Packet Length Mean', ' Packet Length Std', ' Packet Length Variance',\n",
       "       'FIN Flag Count', ' SYN Flag Count', ' RST Flag Count',\n",
       "       ' PSH Flag Count', ' ACK Flag Count', ' URG Flag Count',\n",
       "       ' CWE Flag Count', ' ECE Flag Count', ' Down/Up Ratio',\n",
       "       ' Average Packet Size', ' Avg Fwd Segment Size',\n",
       "       ' Avg Bwd Segment Size', ' Fwd Header Length.1', 'Fwd Avg Bytes/Bulk',\n",
       "       ' Fwd Avg Packets/Bulk', ' Fwd Avg Bulk Rate', ' Bwd Avg Bytes/Bulk',\n",
       "       ' Bwd Avg Packets/Bulk', 'Bwd Avg Bulk Rate', 'Subflow Fwd Packets',\n",
       "       ' Subflow Fwd Bytes', ' Subflow Bwd Packets', ' Subflow Bwd Bytes',\n",
       "       'Init_Win_bytes_forward', ' Init_Win_bytes_backward',\n",
       "       ' act_data_pkt_fwd', ' min_seg_size_forward', 'Active Mean',\n",
       "       ' Active Std', ' Active Max', ' Active Min', 'Idle Mean', ' Idle Std',\n",
       "       ' Idle Max', ' Idle Min', 'SimillarHTTP', ' Inbound', ' Label'],\n",
       "      dtype='object')"
      ]
     },
     "execution_count": 45,
     "metadata": {},
     "output_type": "execute_result"
    }
   ],
   "source": [
    "\n",
    "for i in df1.columns:"
   ]
  },
  {
   "cell_type": "code",
   "execution_count": 40,
   "metadata": {},
   "outputs": [
    {
     "data": {
      "text/plain": [
       " Label\n",
       "Portmap    95273\n",
       "BENIGN      4727\n",
       "Name: count, dtype: int64"
      ]
     },
     "execution_count": 40,
     "metadata": {},
     "output_type": "execute_result"
    }
   ],
   "source": [
    "df1[' Label'].value_counts()"
   ]
  },
  {
   "cell_type": "code",
   "execution_count": 43,
   "metadata": {},
   "outputs": [
    {
     "data": {
      "text/plain": [
       "'2018-11-03 09:18:16.964447'"
      ]
     },
     "execution_count": 43,
     "metadata": {},
     "output_type": "execute_result"
    }
   ],
   "source": [
    "df1[' Timestamp'].min()"
   ]
  },
  {
   "cell_type": "code",
   "execution_count": 28,
   "metadata": {},
   "outputs": [
    {
     "data": {
      "text/plain": [
       " Source Port\n",
       "900      49151\n",
       "758        101\n",
       "596        101\n",
       "726        101\n",
       "566        101\n",
       "         ...  \n",
       "65410        1\n",
       "7692         1\n",
       "6380         1\n",
       "50892        1\n",
       "55289        1\n",
       "Name: count, Length: 572, dtype: int64"
      ]
     },
     "execution_count": 28,
     "metadata": {},
     "output_type": "execute_result"
    }
   ],
   "source": [
    "df[' Source Port'].value_counts()"
   ]
  },
  {
   "cell_type": "code",
   "execution_count": 26,
   "metadata": {},
   "outputs": [
    {
     "data": {
      "text/plain": [
       " Label\n",
       "DrDoS_LDAP    99970\n",
       "BENIGN           30\n",
       "Name: count, dtype: int64"
      ]
     },
     "execution_count": 26,
     "metadata": {},
     "output_type": "execute_result"
    }
   ],
   "source": [
    "df[' Label'].value_counts()"
   ]
  },
  {
   "cell_type": "markdown",
   "metadata": {},
   "source": [
    "Labels contain either *Benign*, which denote normal packages, and an attack class label"
   ]
  },
  {
   "cell_type": "code",
   "execution_count": 23,
   "metadata": {},
   "outputs": [
    {
     "name": "stdout",
     "output_type": "stream",
     "text": [
      "<class 'pandas.core.frame.DataFrame'>\n",
      "Index: 1000000 entries, 21010 to 12696\n",
      "Data columns (total 87 columns):\n",
      " #   Column                        Non-Null Count    Dtype  \n",
      "---  ------                        --------------    -----  \n",
      " 0   Flow ID                       1000000 non-null  object \n",
      " 1    Source IP                    1000000 non-null  object \n",
      " 2    Source Port                  1000000 non-null  int64  \n",
      " 3    Destination IP               1000000 non-null  object \n",
      " 4    Destination Port             1000000 non-null  int64  \n",
      " 5    Protocol                     1000000 non-null  int64  \n",
      " 6    Timestamp                    1000000 non-null  object \n",
      " 7    Flow Duration                1000000 non-null  int64  \n",
      " 8    Total Fwd Packets            1000000 non-null  int64  \n",
      " 9    Total Backward Packets       1000000 non-null  int64  \n",
      " 10  Total Length of Fwd Packets   1000000 non-null  float64\n",
      " 11   Total Length of Bwd Packets  1000000 non-null  float64\n",
      " 12   Fwd Packet Length Max        1000000 non-null  float64\n",
      " 13   Fwd Packet Length Min        1000000 non-null  float64\n",
      " 14   Fwd Packet Length Mean       1000000 non-null  float64\n",
      " 15   Fwd Packet Length Std        1000000 non-null  float64\n",
      " 16  Bwd Packet Length Max         1000000 non-null  float64\n",
      " 17   Bwd Packet Length Min        1000000 non-null  float64\n",
      " 18   Bwd Packet Length Mean       1000000 non-null  float64\n",
      " 19   Bwd Packet Length Std        1000000 non-null  float64\n",
      " 20  Flow Bytes/s                  999996 non-null   float64\n",
      " 21   Flow Packets/s               1000000 non-null  float64\n",
      " 22   Flow IAT Mean                1000000 non-null  float64\n",
      " 23   Flow IAT Std                 1000000 non-null  float64\n",
      " 24   Flow IAT Max                 1000000 non-null  float64\n",
      " 25   Flow IAT Min                 1000000 non-null  float64\n",
      " 26  Fwd IAT Total                 1000000 non-null  float64\n",
      " 27   Fwd IAT Mean                 1000000 non-null  float64\n",
      " 28   Fwd IAT Std                  1000000 non-null  float64\n",
      " 29   Fwd IAT Max                  1000000 non-null  float64\n",
      " 30   Fwd IAT Min                  1000000 non-null  float64\n",
      " 31  Bwd IAT Total                 1000000 non-null  float64\n",
      " 32   Bwd IAT Mean                 1000000 non-null  float64\n",
      " 33   Bwd IAT Std                  1000000 non-null  float64\n",
      " 34   Bwd IAT Max                  1000000 non-null  float64\n",
      " 35   Bwd IAT Min                  1000000 non-null  float64\n",
      " 36  Fwd PSH Flags                 1000000 non-null  int64  \n",
      " 37   Bwd PSH Flags                1000000 non-null  int64  \n",
      " 38   Fwd URG Flags                1000000 non-null  int64  \n",
      " 39   Bwd URG Flags                1000000 non-null  int64  \n",
      " 40   Fwd Header Length            1000000 non-null  int64  \n",
      " 41   Bwd Header Length            1000000 non-null  int64  \n",
      " 42  Fwd Packets/s                 1000000 non-null  float64\n",
      " 43   Bwd Packets/s                1000000 non-null  float64\n",
      " 44   Min Packet Length            1000000 non-null  float64\n",
      " 45   Max Packet Length            1000000 non-null  float64\n",
      " 46   Packet Length Mean           1000000 non-null  float64\n",
      " 47   Packet Length Std            1000000 non-null  float64\n",
      " 48   Packet Length Variance       1000000 non-null  float64\n",
      " 49  FIN Flag Count                1000000 non-null  int64  \n",
      " 50   SYN Flag Count               1000000 non-null  int64  \n",
      " 51   RST Flag Count               1000000 non-null  int64  \n",
      " 52   PSH Flag Count               1000000 non-null  int64  \n",
      " 53   ACK Flag Count               1000000 non-null  int64  \n",
      " 54   URG Flag Count               1000000 non-null  int64  \n",
      " 55   CWE Flag Count               1000000 non-null  int64  \n",
      " 56   ECE Flag Count               1000000 non-null  int64  \n",
      " 57   Down/Up Ratio                1000000 non-null  float64\n",
      " 58   Average Packet Size          1000000 non-null  float64\n",
      " 59   Avg Fwd Segment Size         1000000 non-null  float64\n",
      " 60   Avg Bwd Segment Size         1000000 non-null  float64\n",
      " 61   Fwd Header Length.1          1000000 non-null  int64  \n",
      " 62  Fwd Avg Bytes/Bulk            1000000 non-null  int64  \n",
      " 63   Fwd Avg Packets/Bulk         1000000 non-null  int64  \n",
      " 64   Fwd Avg Bulk Rate            1000000 non-null  int64  \n",
      " 65   Bwd Avg Bytes/Bulk           1000000 non-null  int64  \n",
      " 66   Bwd Avg Packets/Bulk         1000000 non-null  int64  \n",
      " 67  Bwd Avg Bulk Rate             1000000 non-null  int64  \n",
      " 68  Subflow Fwd Packets           1000000 non-null  int64  \n",
      " 69   Subflow Fwd Bytes            1000000 non-null  int64  \n",
      " 70   Subflow Bwd Packets          1000000 non-null  int64  \n",
      " 71   Subflow Bwd Bytes            1000000 non-null  int64  \n",
      " 72  Init_Win_bytes_forward        1000000 non-null  int64  \n",
      " 73   Init_Win_bytes_backward      1000000 non-null  int64  \n",
      " 74   act_data_pkt_fwd             1000000 non-null  int64  \n",
      " 75   min_seg_size_forward         1000000 non-null  int64  \n",
      " 76  Active Mean                   1000000 non-null  float64\n",
      " 77   Active Std                   1000000 non-null  float64\n",
      " 78   Active Max                   1000000 non-null  float64\n",
      " 79   Active Min                   1000000 non-null  float64\n",
      " 80  Idle Mean                     1000000 non-null  float64\n",
      " 81   Idle Std                     1000000 non-null  float64\n",
      " 82   Idle Max                     1000000 non-null  float64\n",
      " 83   Idle Min                     1000000 non-null  float64\n",
      " 84  SimillarHTTP                  1000000 non-null  object \n",
      " 85   Inbound                      1000000 non-null  int64  \n",
      " 86   Label                        1000000 non-null  object \n",
      "dtypes: float64(45), int64(36), object(6)\n",
      "memory usage: 671.4+ MB\n"
     ]
    }
   ],
   "source": [
    "df.info()"
   ]
  },
  {
   "cell_type": "code",
   "execution_count": 27,
   "metadata": {},
   "outputs": [
    {
     "name": "stdout",
     "output_type": "stream",
     "text": [
      "['Flow ID', 'Source IP', 'Source Port', 'Destination IP', 'Destination Port', 'Protocol', 'Timestamp', 'Flow Duration', 'Total Fwd Packets', 'Total Backward Packets', 'Total Length of Fwd Packets', 'Total Length of Bwd Packets', 'Fwd Packet Length Max', 'Fwd Packet Length Min', 'Fwd Packet Length Mean', 'Fwd Packet Length Std', 'Bwd Packet Length Max', 'Bwd Packet Length Min', 'Bwd Packet Length Mean', 'Bwd Packet Length Std', 'Flow Bytes/s', 'Flow Packets/s', 'Flow IAT Mean', 'Flow IAT Std', 'Flow IAT Max', 'Flow IAT Min', 'Fwd IAT Total', 'Fwd IAT Mean', 'Fwd IAT Std', 'Fwd IAT Max', 'Fwd IAT Min', 'Bwd IAT Total', 'Bwd IAT Mean', 'Bwd IAT Std', 'Bwd IAT Max', 'Bwd IAT Min', 'Fwd PSH Flags', 'Bwd PSH Flags', 'Fwd URG Flags', 'Bwd URG Flags', 'Fwd Header Length', 'Bwd Header Length', 'Fwd Packets/s', 'Bwd Packets/s', 'Min Packet Length', 'Max Packet Length', 'Packet Length Mean', 'Packet Length Std', 'Packet Length Variance', 'FIN Flag Count', 'SYN Flag Count', 'RST Flag Count', 'PSH Flag Count', 'ACK Flag Count', 'URG Flag Count', 'CWE Flag Count', 'ECE Flag Count', 'Down/Up Ratio', 'Average Packet Size', 'Avg Fwd Segment Size', 'Avg Bwd Segment Size', 'Fwd Header Length.1', 'Fwd Avg Bytes/Bulk', 'Fwd Avg Packets/Bulk', 'Fwd Avg Bulk Rate', 'Bwd Avg Bytes/Bulk', 'Bwd Avg Packets/Bulk', 'Bwd Avg Bulk Rate', 'Subflow Fwd Packets', 'Subflow Fwd Bytes', 'Subflow Bwd Packets', 'Subflow Bwd Bytes', 'Init_Win_bytes_forward', 'Init_Win_bytes_backward', 'act_data_pkt_fwd', 'min_seg_size_forward', 'Active Mean', 'Active Std', 'Active Max', 'Active Min', 'Idle Mean', 'Idle Std', 'Idle Max', 'Idle Min', 'SimillarHTTP', 'Inbound', 'Label']\n"
     ]
    }
   ],
   "source": [
    "# import re\n",
    "print([re.sub('^\\s+|\\s+$/g', \"\", word) for word in list(df.columns)])"
   ]
  },
  {
   "cell_type": "code",
   "execution_count": 16,
   "metadata": {},
   "outputs": [
    {
     "name": "stdout",
     "output_type": "stream",
     "text": [
      "['Flow ID', ' Source IP', ' Source Port', ' Destination IP', ' Destination Port', ' Protocol', ' Timestamp', ' Flow Duration', ' Total Fwd Packets', ' Total Backward Packets', 'Total Length of Fwd Packets', ' Total Length of Bwd Packets', ' Fwd Packet Length Max', ' Fwd Packet Length Min', ' Fwd Packet Length Mean', ' Fwd Packet Length Std', 'Bwd Packet Length Max', ' Bwd Packet Length Min', ' Bwd Packet Length Mean', ' Bwd Packet Length Std', 'Flow Bytes/s', ' Flow Packets/s', ' Flow IAT Mean', ' Flow IAT Std', ' Flow IAT Max', ' Flow IAT Min', 'Fwd IAT Total', ' Fwd IAT Mean', ' Fwd IAT Std', ' Fwd IAT Max', ' Fwd IAT Min', 'Bwd IAT Total', ' Bwd IAT Mean', ' Bwd IAT Std', ' Bwd IAT Max', ' Bwd IAT Min', 'Fwd PSH Flags', ' Bwd PSH Flags', ' Fwd URG Flags', ' Bwd URG Flags', ' Fwd Header Length', ' Bwd Header Length', 'Fwd Packets/s', ' Bwd Packets/s', ' Min Packet Length', ' Max Packet Length', ' Packet Length Mean', ' Packet Length Std', ' Packet Length Variance', 'FIN Flag Count', ' SYN Flag Count', ' RST Flag Count', ' PSH Flag Count', ' ACK Flag Count', ' URG Flag Count', ' CWE Flag Count', ' ECE Flag Count', ' Down/Up Ratio', ' Average Packet Size', ' Avg Fwd Segment Size', ' Avg Bwd Segment Size', ' Fwd Header Length.1', 'Fwd Avg Bytes/Bulk', ' Fwd Avg Packets/Bulk', ' Fwd Avg Bulk Rate', ' Bwd Avg Bytes/Bulk', ' Bwd Avg Packets/Bulk', 'Bwd Avg Bulk Rate', 'Subflow Fwd Packets', ' Subflow Fwd Bytes', ' Subflow Bwd Packets', ' Subflow Bwd Bytes', 'Init_Win_bytes_forward', ' Init_Win_bytes_backward', ' act_data_pkt_fwd', ' min_seg_size_forward', 'Active Mean', ' Active Std', ' Active Max', ' Active Min', 'Idle Mean', ' Idle Std', ' Idle Max', ' Idle Min', 'SimillarHTTP', ' Inbound', ' Label']\n"
     ]
    }
   ],
   "source": [
    "print(list(df.columns))"
   ]
  },
  {
   "cell_type": "code",
   "execution_count": 28,
   "metadata": {},
   "outputs": [],
   "source": [
    "true_col = ['Flow ID', 'Source IP', 'Source Port', 'Destination IP', 'Destination Port', 'Protocol', \n",
    " 'Timestamp', 'Flow Duration', 'Total Fwd Packets', 'Total Backward Packets', \n",
    " 'Total Length of Fwd Packets', 'Total Length of Bwd Packets', 'Fwd Packet Length Max', \n",
    " 'Fwd Packet Length Min', 'Fwd Packet Length Mean', 'Fwd Packet Length Std', \n",
    " 'Bwd Packet Length Max', 'Bwd Packet Length Min', 'Bwd Packet Length Mean', \n",
    " 'Bwd Packet Length Std', 'Flow Bytes/s', 'Flow Packets/s', 'Flow IAT Mean', \n",
    " 'Flow IAT Std', 'Flow IAT Max', 'Flow IAT Min', 'Fwd IAT Total', 'Fwd IAT Mean', \n",
    " 'Fwd IAT Std', 'Fwd IAT Max', 'Fwd IAT Min', 'Bwd IAT Total', 'Bwd IAT Mean', \n",
    " 'Bwd IAT Std', 'Bwd IAT Max', 'Bwd IAT Min', 'Fwd PSH Flags', 'Bwd PSH Flags', \n",
    " 'Fwd URG Flags', 'Bwd URG Flags', 'Fwd Header Length', 'Bwd Header Length', \n",
    " 'Fwd Packets/s', 'Bwd Packets/s', 'Min Packet Length', 'Max Packet Length', \n",
    " 'Packet Length Mean', 'Packet Length Std', 'Packet Length Variance', 'FIN Flag Count', \n",
    " 'SYN Flag Count', 'RST Flag Count', 'PSH Flag Count', 'ACK Flag Count', 'URG Flag Count', \n",
    " 'CWE Flag Count', 'ECE Flag Count', 'Down/Up Ratio', 'Average Packet Size', \n",
    " 'Avg Fwd Segment Size', 'Avg Bwd Segment Size', 'Fwd Header Length.1', \n",
    " 'Fwd Avg Bytes/Bulk', 'Fwd Avg Packets/Bulk', 'Fwd Avg Bulk Rate', 'Bwd Avg Bytes/Bulk', \n",
    " 'Bwd Avg Packets/Bulk', 'Bwd Avg Bulk Rate', 'Subflow Fwd Packets', 'Subflow Fwd Bytes', \n",
    " 'Subflow Bwd Packets', 'Subflow Bwd Bytes', 'Init_Win_bytes_forward', 'Init_Win_bytes_backward', \n",
    " 'act_data_pkt_fwd', 'min_seg_size_forward', 'Active Mean', 'Active Std', 'Active Max', \n",
    " 'Active Min', 'Idle Mean', 'Idle Std', 'Idle Max', 'Idle Min', 'SimillarHTTP', 'Inbound', 'Label']"
   ]
  },
  {
   "cell_type": "code",
   "execution_count": null,
   "metadata": {},
   "outputs": [],
   "source": [
    "text_col = ['Flow Byte/s','Flow Packets/s','Flow IAT Mean','Flow IAT Std',\n",
    "    'Flow IAT Max','Flow IAT Min','Fwd IAT Min','Fwd IAT Max','Fwd IAT Mean','Fwd IAT Std ',\n",
    "    'Fwd IAT Total ','Bwd IAT Min ','Bwd IAT Max ','Bwd IAT Mean','Bwd IAT Std',\n",
    "    'Bwd IAT Total','Fwd PSH flag', 'Bwd PSH Flag','Fwd URG Flag','Bwd URG Flag',\n",
    "    'Fwd Header Length ','Bwd Header Length ','FWD Packets/s','Bwd Packets/s',\n",
    "    'Min Packet Length','Max Packet Length','Packet Length Mean','Packet Length Std ',\n",
    "    'Packet Length Variance ','FIN Flag Count ','SYN Flag Count ','RST Flag Count ',\n",
    "    'PSH Flag Count ','ACK Flag Count ','URG Flag Count ','CWR Flag Count ',\n",
    "    'ECE Flag Count ','down/Up Ratio','Average Packet Size','Avg Fwd Segment Size',\n",
    "    'AVG Bwd Segment Size','Fwd Header Length ','Fwd Avg Bytes/Bulk ',\n",
    "    'Fwd AVG Packet/Bulk','Fwd AVG Bulk Rate','Bwd Avg Bytes/Bulk ','Bwd AVG Packet/Bulk',\n",
    "    'Bwd AVG Bulk Rate','Subflow Fwd Packets ','Subflow Fwd Bytes ','Subflow Bwd Packets ',\n",
    "    'Subflow Bwd Bytes ','Init_Win_bytes_forward ','Init_Win_bytes_backward ',\n",
    "    'Act_data_pkt_forward ','min_seg_size_forward ','Active Min',\n",
    "    'Active Mean','Active Max','Active Std','Idle Min','Idle Mean','Idle Max','Idle Std']\n",
    "\n",
    "text_col = [re.sub('$\\s+|\\s+$/g', \"\", word) for word in text_col]\n"
   ]
  },
  {
   "cell_type": "code",
   "execution_count": null,
   "metadata": {},
   "outputs": [
    {
     "data": {
      "text/plain": [
       "{'Active Max',\n",
       " 'Active Mean',\n",
       " 'Active Min',\n",
       " 'Active Std',\n",
       " 'Average Packet Size',\n",
       " 'Avg Fwd Segment Size',\n",
       " 'Bwd IAT Mean',\n",
       " 'Bwd IAT Std',\n",
       " 'Bwd IAT Total',\n",
       " 'Bwd Packets/s',\n",
       " 'Flow IAT Max',\n",
       " 'Flow IAT Mean',\n",
       " 'Flow IAT Min',\n",
       " 'Flow IAT Std',\n",
       " 'Flow Packets/s',\n",
       " 'Fwd IAT Max',\n",
       " 'Fwd IAT Mean',\n",
       " 'Fwd IAT Min',\n",
       " 'Idle Max',\n",
       " 'Idle Mean',\n",
       " 'Idle Min',\n",
       " 'Idle Std',\n",
       " 'Max Packet Length',\n",
       " 'Min Packet Length',\n",
       " 'Packet Length Mean'}"
      ]
     },
     "execution_count": 32,
     "metadata": {},
     "output_type": "execute_result"
    }
   ],
   "source": [
    "set(text_col) & set(true_col)"
   ]
  },
  {
   "cell_type": "code",
   "execution_count": null,
   "metadata": {},
   "outputs": [],
   "source": []
  },
  {
   "cell_type": "code",
   "execution_count": 1,
   "metadata": {},
   "outputs": [
    {
     "data": {
      "text/plain": [
       "24.416999999999998"
      ]
     },
     "execution_count": 1,
     "metadata": {},
     "output_type": "execute_result"
    }
   ],
   "source": [
    "2.2 + 0.876 + 7.3 + 8.8 + 2.9+ 0.441 + 1.9"
   ]
  },
  {
   "cell_type": "code",
   "execution_count": 2,
   "metadata": {},
   "outputs": [
    {
     "data": {
      "text/plain": [
       "770"
      ]
     },
     "execution_count": 2,
     "metadata": {},
     "output_type": "execute_result"
    }
   ],
   "source": [
    "70+48+359+37+256"
   ]
  },
  {
   "cell_type": "code",
   "execution_count": 9,
   "metadata": {},
   "outputs": [
    {
     "data": {
      "text/plain": [
       "48.43333333333333"
      ]
     },
     "execution_count": 9,
     "metadata": {},
     "output_type": "execute_result"
    }
   ],
   "source": [
    "2906/60"
   ]
  },
  {
   "cell_type": "code",
   "execution_count": 8,
   "metadata": {},
   "outputs": [
    {
     "name": "stdout",
     "output_type": "stream",
     "text": [
      "['DNS', 'LDAP', 'MSSQL', 'NTP', 'NetBIOS', 'PortMap', 'SNMP', 'SSDP', 'SYN', 'TFTP', 'UDP', 'UDP-Lag', 'WebDDoS (ARME)']\n"
     ]
    }
   ],
   "source": [
    "attacks = {'PortMap','NetBIOS','LDAP','MSSQL','UDP','UDP-Lag','SYN','NTP','DNS','LDAP',\n",
    "'MSSQL','NetBIOS','SNMP','SSDP','UDP','UDP-Lag','WebDDoS (ARME)','SYN','TFTP'}\n",
    "attacks = list(attacks)\n",
    "print(sorted(attacks))"
   ]
  },
  {
   "cell_type": "code",
   "execution_count": 21,
   "metadata": {},
   "outputs": [
    {
     "ename": "ModuleNotFoundError",
     "evalue": "No module named 'chardet'",
     "output_type": "error",
     "traceback": [
      "\u001b[1;31m---------------------------------------------------------------------------\u001b[0m",
      "\u001b[1;31mModuleNotFoundError\u001b[0m                       Traceback (most recent call last)",
      "Cell \u001b[1;32mIn[21], line 1\u001b[0m\n\u001b[1;32m----> 1\u001b[0m \u001b[38;5;28;01mimport\u001b[39;00m \u001b[38;5;21;01mchardet\u001b[39;00m \n",
      "\u001b[1;31mModuleNotFoundError\u001b[0m: No module named 'chardet'"
     ]
    }
   ],
   "source": []
  },
  {
   "cell_type": "code",
   "execution_count": null,
   "metadata": {},
   "outputs": [
    {
     "name": "stdout",
     "output_type": "stream",
     "text": [
      "['01-12/', '01-12/UDPLag.csv', '01-12/TFTP.csv', '01-12/Syn.csv', '01-12/DrDoS_UDP.csv', '01-12/DrDoS_SSDP.csv', '01-12/DrDoS_SNMP.csv', '01-12/DrDoS_NTP.csv', '01-12/DrDoS_NetBIOS.csv', '01-12/DrDoS_MSSQL.csv', '01-12/DrDoS_LDAP.csv', '01-12/DrDoS_DNS.csv']\n"
     ]
    },
    {
     "data": {
      "text/html": [
       "<div>\n",
       "<style scoped>\n",
       "    .dataframe tbody tr th:only-of-type {\n",
       "        vertical-align: middle;\n",
       "    }\n",
       "\n",
       "    .dataframe tbody tr th {\n",
       "        vertical-align: top;\n",
       "    }\n",
       "\n",
       "    .dataframe thead th {\n",
       "        text-align: right;\n",
       "    }\n",
       "</style>\n",
       "<table border=\"1\" class=\"dataframe\">\n",
       "  <thead>\n",
       "    <tr style=\"text-align: right;\">\n",
       "      <th></th>\n",
       "      <th>Flow ID</th>\n",
       "      <th>Source IP</th>\n",
       "      <th>Source Port</th>\n",
       "      <th>Destination IP</th>\n",
       "      <th>Destination Port</th>\n",
       "      <th>Protocol</th>\n",
       "      <th>Timestamp</th>\n",
       "      <th>Flow Duration</th>\n",
       "      <th>Total Fwd Packets</th>\n",
       "      <th>Total Backward Packets</th>\n",
       "      <th>...</th>\n",
       "      <th>Active Std</th>\n",
       "      <th>Active Max</th>\n",
       "      <th>Active Min</th>\n",
       "      <th>Idle Mean</th>\n",
       "      <th>Idle Std</th>\n",
       "      <th>Idle Max</th>\n",
       "      <th>Idle Min</th>\n",
       "      <th>SimillarHTTP</th>\n",
       "      <th>Inbound</th>\n",
       "      <th>Label</th>\n",
       "    </tr>\n",
       "    <tr>\n",
       "      <th>Unnamed: 0</th>\n",
       "      <th></th>\n",
       "      <th></th>\n",
       "      <th></th>\n",
       "      <th></th>\n",
       "      <th></th>\n",
       "      <th></th>\n",
       "      <th></th>\n",
       "      <th></th>\n",
       "      <th></th>\n",
       "      <th></th>\n",
       "      <th></th>\n",
       "      <th></th>\n",
       "      <th></th>\n",
       "      <th></th>\n",
       "      <th></th>\n",
       "      <th></th>\n",
       "      <th></th>\n",
       "      <th></th>\n",
       "      <th></th>\n",
       "      <th></th>\n",
       "      <th></th>\n",
       "    </tr>\n",
       "  </thead>\n",
       "  <tbody>\n",
       "    <tr>\n",
       "      <th>21010</th>\n",
       "      <td>172.16.0.5-192.168.50.1-0-0-0</td>\n",
       "      <td>172.16.0.5</td>\n",
       "      <td>0</td>\n",
       "      <td>192.168.50.1</td>\n",
       "      <td>0</td>\n",
       "      <td>0</td>\n",
       "      <td>2018-12-01 11:22:40.254769</td>\n",
       "      <td>9141643</td>\n",
       "      <td>85894</td>\n",
       "      <td>28</td>\n",
       "      <td>...</td>\n",
       "      <td>0.0</td>\n",
       "      <td>0.0</td>\n",
       "      <td>0.0</td>\n",
       "      <td>0.0</td>\n",
       "      <td>0.0</td>\n",
       "      <td>0.0</td>\n",
       "      <td>0.0</td>\n",
       "      <td>0</td>\n",
       "      <td>1</td>\n",
       "      <td>DrDoS_LDAP</td>\n",
       "    </tr>\n",
       "    <tr>\n",
       "      <th>20932</th>\n",
       "      <td>172.16.0.5-192.168.50.1-900-1808-17</td>\n",
       "      <td>172.16.0.5</td>\n",
       "      <td>900</td>\n",
       "      <td>192.168.50.1</td>\n",
       "      <td>1808</td>\n",
       "      <td>17</td>\n",
       "      <td>2018-12-01 11:22:40.255361</td>\n",
       "      <td>1</td>\n",
       "      <td>2</td>\n",
       "      <td>0</td>\n",
       "      <td>...</td>\n",
       "      <td>0.0</td>\n",
       "      <td>0.0</td>\n",
       "      <td>0.0</td>\n",
       "      <td>0.0</td>\n",
       "      <td>0.0</td>\n",
       "      <td>0.0</td>\n",
       "      <td>0.0</td>\n",
       "      <td>0</td>\n",
       "      <td>1</td>\n",
       "      <td>DrDoS_LDAP</td>\n",
       "    </tr>\n",
       "    <tr>\n",
       "      <th>27876</th>\n",
       "      <td>172.16.0.5-192.168.50.1-900-58766-17</td>\n",
       "      <td>172.16.0.5</td>\n",
       "      <td>900</td>\n",
       "      <td>192.168.50.1</td>\n",
       "      <td>58766</td>\n",
       "      <td>17</td>\n",
       "      <td>2018-12-01 11:22:40.255568</td>\n",
       "      <td>2</td>\n",
       "      <td>2</td>\n",
       "      <td>0</td>\n",
       "      <td>...</td>\n",
       "      <td>0.0</td>\n",
       "      <td>0.0</td>\n",
       "      <td>0.0</td>\n",
       "      <td>0.0</td>\n",
       "      <td>0.0</td>\n",
       "      <td>0.0</td>\n",
       "      <td>0.0</td>\n",
       "      <td>0</td>\n",
       "      <td>1</td>\n",
       "      <td>DrDoS_LDAP</td>\n",
       "    </tr>\n",
       "    <tr>\n",
       "      <th>24270</th>\n",
       "      <td>172.16.0.5-192.168.50.1-900-35228-17</td>\n",
       "      <td>172.16.0.5</td>\n",
       "      <td>900</td>\n",
       "      <td>192.168.50.1</td>\n",
       "      <td>35228</td>\n",
       "      <td>17</td>\n",
       "      <td>2018-12-01 11:22:40.256113</td>\n",
       "      <td>1</td>\n",
       "      <td>2</td>\n",
       "      <td>0</td>\n",
       "      <td>...</td>\n",
       "      <td>0.0</td>\n",
       "      <td>0.0</td>\n",
       "      <td>0.0</td>\n",
       "      <td>0.0</td>\n",
       "      <td>0.0</td>\n",
       "      <td>0.0</td>\n",
       "      <td>0.0</td>\n",
       "      <td>0</td>\n",
       "      <td>1</td>\n",
       "      <td>DrDoS_LDAP</td>\n",
       "    </tr>\n",
       "    <tr>\n",
       "      <th>5109</th>\n",
       "      <td>172.16.0.5-192.168.50.1-900-44969-17</td>\n",
       "      <td>172.16.0.5</td>\n",
       "      <td>900</td>\n",
       "      <td>192.168.50.1</td>\n",
       "      <td>44969</td>\n",
       "      <td>17</td>\n",
       "      <td>2018-12-01 11:22:40.256285</td>\n",
       "      <td>2</td>\n",
       "      <td>2</td>\n",
       "      <td>0</td>\n",
       "      <td>...</td>\n",
       "      <td>0.0</td>\n",
       "      <td>0.0</td>\n",
       "      <td>0.0</td>\n",
       "      <td>0.0</td>\n",
       "      <td>0.0</td>\n",
       "      <td>0.0</td>\n",
       "      <td>0.0</td>\n",
       "      <td>0</td>\n",
       "      <td>1</td>\n",
       "      <td>DrDoS_LDAP</td>\n",
       "    </tr>\n",
       "  </tbody>\n",
       "</table>\n",
       "<p>5 rows × 87 columns</p>\n",
       "</div>"
      ],
      "text/plain": [
       "                                         Flow ID   Source IP   Source Port  \\\n",
       "Unnamed: 0                                                                   \n",
       "21010              172.16.0.5-192.168.50.1-0-0-0  172.16.0.5             0   \n",
       "20932        172.16.0.5-192.168.50.1-900-1808-17  172.16.0.5           900   \n",
       "27876       172.16.0.5-192.168.50.1-900-58766-17  172.16.0.5           900   \n",
       "24270       172.16.0.5-192.168.50.1-900-35228-17  172.16.0.5           900   \n",
       "5109        172.16.0.5-192.168.50.1-900-44969-17  172.16.0.5           900   \n",
       "\n",
       "            Destination IP   Destination Port   Protocol  \\\n",
       "Unnamed: 0                                                 \n",
       "21010         192.168.50.1                  0          0   \n",
       "20932         192.168.50.1               1808         17   \n",
       "27876         192.168.50.1              58766         17   \n",
       "24270         192.168.50.1              35228         17   \n",
       "5109          192.168.50.1              44969         17   \n",
       "\n",
       "                             Timestamp   Flow Duration   Total Fwd Packets  \\\n",
       "Unnamed: 0                                                                   \n",
       "21010       2018-12-01 11:22:40.254769         9141643               85894   \n",
       "20932       2018-12-01 11:22:40.255361               1                   2   \n",
       "27876       2018-12-01 11:22:40.255568               2                   2   \n",
       "24270       2018-12-01 11:22:40.256113               1                   2   \n",
       "5109        2018-12-01 11:22:40.256285               2                   2   \n",
       "\n",
       "             Total Backward Packets  ...   Active Std   Active Max  \\\n",
       "Unnamed: 0                           ...                             \n",
       "21010                            28  ...          0.0          0.0   \n",
       "20932                             0  ...          0.0          0.0   \n",
       "27876                             0  ...          0.0          0.0   \n",
       "24270                             0  ...          0.0          0.0   \n",
       "5109                              0  ...          0.0          0.0   \n",
       "\n",
       "             Active Min  Idle Mean   Idle Std   Idle Max   Idle Min  \\\n",
       "Unnamed: 0                                                            \n",
       "21010               0.0        0.0        0.0        0.0        0.0   \n",
       "20932               0.0        0.0        0.0        0.0        0.0   \n",
       "27876               0.0        0.0        0.0        0.0        0.0   \n",
       "24270               0.0        0.0        0.0        0.0        0.0   \n",
       "5109                0.0        0.0        0.0        0.0        0.0   \n",
       "\n",
       "            SimillarHTTP   Inbound       Label  \n",
       "Unnamed: 0                                      \n",
       "21010                  0         1  DrDoS_LDAP  \n",
       "20932                  0         1  DrDoS_LDAP  \n",
       "27876                  0         1  DrDoS_LDAP  \n",
       "24270                  0         1  DrDoS_LDAP  \n",
       "5109                   0         1  DrDoS_LDAP  \n",
       "\n",
       "[5 rows x 87 columns]"
      ]
     },
     "metadata": {},
     "output_type": "display_data"
    }
   ],
   "source": [
    "with ZipFile(path_data+'CSV-01-12.zip') as myzip:\n",
    "    # list available files in the container\n",
    "    print(myzip.namelist())\n",
    "\n",
    "    with myzip.open('01-12/DrDoS_LDAP.csv', 'r') as myfile:\n",
    "        df = pd.read_csv(myfile, index_col='Unnamed: 0', nrows=10)\n",
    "        #for chunk in pd.read_csv(myfile, chunksize=ChunkSize, index_col='Unnamed: 0'):\n",
    "            #df = chunk\n",
    "            #break\n",
    "            #while counter < 5:\n",
    "                #df = pd.concat([df, chunk])\n",
    "                #counter +=1\n",
    "\n",
    "df.head()"
   ]
  }
 ],
 "metadata": {
  "kernelspec": {
   "display_name": "Python 3",
   "language": "python",
   "name": "python3"
  },
  "language_info": {
   "codemirror_mode": {
    "name": "ipython",
    "version": 3
   },
   "file_extension": ".py",
   "mimetype": "text/x-python",
   "name": "python",
   "nbconvert_exporter": "python",
   "pygments_lexer": "ipython3",
   "version": "3.10.9"
  }
 },
 "nbformat": 4,
 "nbformat_minor": 2
}
